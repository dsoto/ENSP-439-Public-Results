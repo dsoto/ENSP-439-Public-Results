{
 "cells": [
  {
   "cell_type": "markdown",
   "metadata": {
    "collapsed": false
   },
   "source": [
    "# ETC Baseline Preliminary Results \n",
    "- Team 9: Just Keep SWAMing\n",
    "- Shauna, Wren, Austin, Maggie"
   ]
  },
  {
   "cell_type": "code",
   "execution_count": 3,
   "metadata": {
    "collapsed": true
   },
   "outputs": [],
   "source": [
    "import pandas as pd"
   ]
  },
  {
   "cell_type": "markdown",
   "metadata": {},
   "source": [
    "# Usage \n",
    "\n",
    "We can use the below data on appliances to figure out what is using the most energy."
   ]
  },
  {
   "cell_type": "markdown",
   "metadata": {},
   "source": [
    "| Appliance | Amount | Watt per Appliance | Total Watts | KWh Per Week | \n",
    "|-----------|--------|--------------------|-------------|-----|-----|\n",
    "| Lights above Class | 2 | 610 | 1220| 24.766 |\n",
    "| Office Lights      | 2 | 122| 244 | 0.224 | \n",
    "| Kitchen Light      | 2 | 64 | 128 | 2.598 | \n",
    "| Bathroom Light     | 1 | 64 | 64 | 0.2944 | \n",
    "| Control Room Lights | 4 | 32| 128 | 0.128 | \n",
    "| Outside Lights     | 2 | 34 | 68 |        |\n",
    "| Exit Lights        | 3 | 38 | 114 | 13.68 | \n",
    "| Lights \"Stairs\"    | 2 | 34 | 68 | 0 |    \n",
    "| Entry Lights       | 1 | 64 | 64 | 0.064 |\n",
    "| Emergency Light    | 1 | 2 | 2 | 0.040 |\n",
    "| Exhaust Fan (Bathroom) | 1 | 13 | 13 | 0.0611 |\n",
    "| Exhaust Fan (Kitchen: goes on with lights) | 1 | 325 | 325 | 6.597|\n",
    "| Pumps (H20)        | 2 | 85 | 170 |  0.170 |\n",
    "| 45g Water Heater   | 1 | 81,000 BTU/ 23.733 kw | 23,733 |   |\n",
    "| 56' Fans           | 5 | 63-75 | 315-375 |  0-0.375  |\n",
    "| Fans               | 3 | 63-75 | 189-225 | 0-0.225 |\n",
    "| Solar Panel Modules | 60 | 60 | 3600 |   |\n",
    "| Projector          | 1 | 255 | 255 | 4.5675 |"
   ]
  },
  {
   "cell_type": "markdown",
   "metadata": {},
   "source": [
    "### Analysis: "
   ]
  },
  {
   "cell_type": "markdown",
   "metadata": {},
   "source": [
    "# ETC Times in Use \n",
    "We have data from all times in each week, but want to be conscious of the fact that this building is used for classes that occur throughout the day for a limited time on weekdays."
   ]
  },
  {
   "cell_type": "markdown",
   "metadata": {},
   "source": [
    "- Monday: 10:00-11:50, 1:00-2:15 (3hr 5 min)\n",
    "- Tuesday: 10:00-11:50, 1:00-2:15, 3:00-3:50 (3hr 55min)\n",
    "- Wednesday: 10:00-11:50, 12-12:50, 1:00-2:15, 4:00-5:50 (5hr 45min)\n",
    "- Thursday: 10:00-11:50, 1:00-2:15, 3:00-3:50 (3hr 55min)\n",
    "- Friday: 10:00-11:50, 2:00-3:50 (3hr 40 min)\n",
    "- Total = 20 hours and 20 min\n",
    "\n"
   ]
  },
  {
   "cell_type": "markdown",
   "metadata": {},
   "source": [
    "# Energy Usage"
   ]
  },
  {
   "cell_type": "code",
   "execution_count": 5,
   "metadata": {
    "collapsed": false
   },
   "outputs": [],
   "source": [
    "etc = pd.read_csv('ETC Data 439L.csv', parse_dates=True, index_col=0)"
   ]
  },
  {
   "cell_type": "markdown",
   "metadata": {},
   "source": [
    " # DATA (based on Monthly Intervals)\n",
    "\n",
    "## House Data:\n",
    "\n",
    "- Graph of House energy usage in kilowatt hours (y-Axis), over time (x-axis). \n",
    "- Data taken on monthly interval. \n",
    "- Represents agrigate data. It is all the kilowatt hours that have been consumed for the ETC lifetime "
   ]
  },
  {
   "cell_type": "code",
   "execution_count": 6,
   "metadata": {
    "collapsed": false,
    "scrolled": false
   },
   "outputs": [
    {
     "data": {
      "text/plain": [
       "<matplotlib.axes._subplots.AxesSubplot at 0x7f49309bbe10>"
      ]
     },
     "execution_count": 6,
     "metadata": {},
     "output_type": "execute_result"
    },
    {
     "data": {
      "image/png": "[encoded data removed]",
      "text/plain": [
       "<matplotlib.figure.Figure at 0x7f49309aae48>"
      ]
     },
     "metadata": {},
     "output_type": "display_data"
    }
   ],
   "source": [
    "%matplotlib inline\n",
    "etc['House (kWH)'].plot()"
   ]
  },
  {
   "cell_type": "code",
   "execution_count": 7,
   "metadata": {
    "collapsed": false
   },
   "outputs": [
    {
     "data": {
      "text/plain": [
       "<matplotlib.axes._subplots.AxesSubplot at 0x7f49431c8e80>"
      ]
     },
     "execution_count": 7,
     "metadata": {},
     "output_type": "execute_result"
    },
    {
     "data": {
      "image/png": "[encoded data removed]",
      "text/plain": [
       "<matplotlib.figure.Figure at 0x7f49309aac88>"
      ]
     },
     "metadata": {},
     "output_type": "display_data"
    }
   ],
   "source": [
    "etc['House (kWH)'].diff(1).plot()"
   ]
  },
  {
   "cell_type": "markdown",
   "metadata": {},
   "source": [
    "### House Data Analysis:\n",
    "\n",
    "   The first graph that we have represents the aggregate data of Energy Usage in kilowatt hours (kWh), not including the energy from solar. The general trend of the graph is positive and linear.\n",
    "    \n",
    "   The second graph represents the amount of energy usage (in kilowatt hours) per month. Clearly, the energy usage increases from the beginning of 2016 until the beginning of 2017. One possible reason for this is the fact that the solar panel stopped working in May 2016. There are times when the energy usage drops. For example, when it drops from may, til august, we can assume it is from the fact this is the summer season, when classes are not in session. We can also acknowledge the break in the graph from when the data was not read, due to technical issues. "
   ]
  },
  {
   "cell_type": "markdown",
   "metadata": {},
   "source": [
    "## Solar Data: "
   ]
  },
  {
   "cell_type": "code",
   "execution_count": 8,
   "metadata": {
    "collapsed": false
   },
   "outputs": [
    {
     "data": {
      "text/plain": [
       "<matplotlib.axes._subplots.AxesSubplot at 0x7f4930d2ea58>"
      ]
     },
     "execution_count": 8,
     "metadata": {},
     "output_type": "execute_result"
    },
    {
     "data": {
      "image/png": "[encoded data removed]",
      "text/plain": [
       "<matplotlib.figure.Figure at 0x7f49309bb390>"
      ]
     },
     "metadata": {},
     "output_type": "display_data"
    }
   ],
   "source": [
    "%matplotlib inline\n",
    "etc['Solar (kWH)'].plot()"
   ]
  },
  {
   "cell_type": "code",
   "execution_count": 9,
   "metadata": {
    "collapsed": false
   },
   "outputs": [
    {
     "data": {
      "text/plain": [
       "<matplotlib.axes._subplots.AxesSubplot at 0x7f4910769d30>"
      ]
     },
     "execution_count": 9,
     "metadata": {},
     "output_type": "execute_result"
    },
    {
     "data": {
      "image/png": "[encoded data removed]",
      "text/plain": [
       "<matplotlib.figure.Figure at 0x7f4910078438>"
      ]
     },
     "metadata": {},
     "output_type": "display_data"
    }
   ],
   "source": [
    "etc['Solar (kWH)'].diff(1).plot()"
   ]
  },
  {
   "cell_type": "markdown",
   "metadata": {},
   "source": [
    "### Solar Data Analysis\n",
    "\n",
    "   The above two graphs represent the energy produced from the solar panel on the roof of the etc. The first graph is the agrigate data. It represents the accumulated amount of energy produced. The reason why the graph flat lines in May 2016, is because this is when the solar panel stopped working. \n",
    "    \n",
    "   The second graph represents the amount of energy that the solar panels produced each month. One can see that in May, the energy production immedietly drops to zero, due to the technical difficulties. "
   ]
  },
  {
   "cell_type": "markdown",
   "metadata": {},
   "source": [
    "## Gas Data:"
   ]
  },
  {
   "cell_type": "code",
   "execution_count": 10,
   "metadata": {
    "collapsed": false
   },
   "outputs": [
    {
     "data": {
      "text/plain": [
       "<matplotlib.axes._subplots.AxesSubplot at 0x7f4910032e80>"
      ]
     },
     "execution_count": 10,
     "metadata": {},
     "output_type": "execute_result"
    },
    {
     "data": {
      "image/png": "[encoded data removed]",
      "text/plain": [
       "<matplotlib.figure.Figure at 0x7f490ad2c438>"
      ]
     },
     "metadata": {},
     "output_type": "display_data"
    }
   ],
   "source": [
    "%matplotlib inline\n",
    "etc['Gas (C/Ft X 100)'].plot()"
   ]
  },
  {
   "cell_type": "code",
   "execution_count": 11,
   "metadata": {
    "collapsed": false
   },
   "outputs": [
    {
     "data": {
      "text/plain": [
       "<matplotlib.axes._subplots.AxesSubplot at 0x7f490acd5048>"
      ]
     },
     "execution_count": 11,
     "metadata": {},
     "output_type": "execute_result"
    },
    {
     "data": {
      "image/png": "[encoded data removed]",
      "text/plain": [
       "<matplotlib.figure.Figure at 0x7f490ad06390>"
      ]
     },
     "metadata": {},
     "output_type": "display_data"
    }
   ],
   "source": [
    "etc['Gas (C/Ft X 100)'].diff(1).plot()"
   ]
  },
  {
   "cell_type": "markdown",
   "metadata": {},
   "source": [
    "### Gas Data Analysis: \n",
    "\n",
    "   The above two graphs represent the data of Natural Gas. "
   ]
  },
  {
   "cell_type": "markdown",
   "metadata": {},
   "source": [
    "# Weather Data(Inside and Out)\n",
    "- data from NOAA using Petaluma Data in °C, monthly average(?)\n",
    "- data taken daily, avg, highs and lows"
   ]
  },
  {
   "cell_type": "markdown",
   "metadata": {},
   "source": [
    "# Weather Data (Outdoor)"
   ]
  },
  {
   "cell_type": "code",
   "execution_count": 4,
   "metadata": {
    "collapsed": false
   },
   "outputs": [],
   "source": [
    "inside_weather_march = pd.read_csv('March 2016 Outdoor weather data.csv', parse_dates=True, index_col=1)"
   ]
  },
  {
   "cell_type": "code",
   "execution_count": 5,
   "metadata": {
    "collapsed": false
   },
   "outputs": [
    {
     "data": {
      "text/plain": [
       "Index(['Date', 'DryBulbCelsius', 'DryBulbFarenheit'], dtype='object')"
      ]
     },
     "execution_count": 5,
     "metadata": {},
     "output_type": "execute_result"
    }
   ],
   "source": [
    "inside_weather_march.columns"
   ]
  },
  {
   "cell_type": "code",
   "execution_count": 8,
   "metadata": {
    "collapsed": false
   },
   "outputs": [
    {
     "ename": "TypeError",
     "evalue": "Only valid with DatetimeIndex, TimedeltaIndex or PeriodIndex, but got an instance of 'Int64Index'",
     "output_type": "error",
     "traceback": [
      "\u001b[0;31m---------------------------------------------------------------------------\u001b[0m",
      "\u001b[0;31mTypeError\u001b[0m                                 Traceback (most recent call last)",
      "\u001b[0;32m<ipython-input-8-75c1268e545e>\u001b[0m in \u001b[0;36m<module>\u001b[0;34m()\u001b[0m\n\u001b[0;32m----> 1\u001b[0;31m \u001b[0minside_weather_march\u001b[0m\u001b[0;34m.\u001b[0m\u001b[0mresample\u001b[0m\u001b[0;34m(\u001b[0m\u001b[0;34m'D'\u001b[0m\u001b[0;34m)\u001b[0m\u001b[0;34m.\u001b[0m\u001b[0minterpolate\u001b[0m\u001b[0;34m(\u001b[0m\u001b[0mmethod\u001b[0m\u001b[0;34m=\u001b[0m\u001b[0;34m'linear'\u001b[0m\u001b[0;34m)\u001b[0m\u001b[0;34m\u001b[0m\u001b[0m\n\u001b[0m",
      "\u001b[0;32m/projects/anaconda3/lib/python3.5/site-packages/pandas/core/generic.py\u001b[0m in \u001b[0;36mresample\u001b[0;34m(self, rule, how, axis, fill_method, closed, label, convention, kind, loffset, limit, base, on, level)\u001b[0m\n\u001b[1;32m   4210\u001b[0m                      \u001b[0maxis\u001b[0m\u001b[0;34m=\u001b[0m\u001b[0maxis\u001b[0m\u001b[0;34m,\u001b[0m \u001b[0mkind\u001b[0m\u001b[0;34m=\u001b[0m\u001b[0mkind\u001b[0m\u001b[0;34m,\u001b[0m \u001b[0mloffset\u001b[0m\u001b[0;34m=\u001b[0m\u001b[0mloffset\u001b[0m\u001b[0;34m,\u001b[0m\u001b[0;34m\u001b[0m\u001b[0m\n\u001b[1;32m   4211\u001b[0m                      \u001b[0mconvention\u001b[0m\u001b[0;34m=\u001b[0m\u001b[0mconvention\u001b[0m\u001b[0;34m,\u001b[0m\u001b[0;34m\u001b[0m\u001b[0m\n\u001b[0;32m-> 4212\u001b[0;31m                      base=base, key=on, level=level)\n\u001b[0m\u001b[1;32m   4213\u001b[0m         return _maybe_process_deprecations(r,\n\u001b[1;32m   4214\u001b[0m                                            \u001b[0mhow\u001b[0m\u001b[0;34m=\u001b[0m\u001b[0mhow\u001b[0m\u001b[0;34m,\u001b[0m\u001b[0;34m\u001b[0m\u001b[0m\n",
      "\u001b[0;32m/projects/anaconda3/lib/python3.5/site-packages/pandas/tseries/resample.py\u001b[0m in \u001b[0;36mresample\u001b[0;34m(obj, kind, **kwds)\u001b[0m\n\u001b[1;32m    942\u001b[0m     \u001b[0;34m\"\"\" create a TimeGrouper and return our resampler \"\"\"\u001b[0m\u001b[0;34m\u001b[0m\u001b[0m\n\u001b[1;32m    943\u001b[0m     \u001b[0mtg\u001b[0m \u001b[0;34m=\u001b[0m \u001b[0mTimeGrouper\u001b[0m\u001b[0;34m(\u001b[0m\u001b[0;34m**\u001b[0m\u001b[0mkwds\u001b[0m\u001b[0;34m)\u001b[0m\u001b[0;34m\u001b[0m\u001b[0m\n\u001b[0;32m--> 944\u001b[0;31m     \u001b[0;32mreturn\u001b[0m \u001b[0mtg\u001b[0m\u001b[0;34m.\u001b[0m\u001b[0m_get_resampler\u001b[0m\u001b[0;34m(\u001b[0m\u001b[0mobj\u001b[0m\u001b[0;34m,\u001b[0m \u001b[0mkind\u001b[0m\u001b[0;34m=\u001b[0m\u001b[0mkind\u001b[0m\u001b[0;34m)\u001b[0m\u001b[0;34m\u001b[0m\u001b[0m\n\u001b[0m\u001b[1;32m    945\u001b[0m \u001b[0mresample\u001b[0m\u001b[0;34m.\u001b[0m\u001b[0m__doc__\u001b[0m \u001b[0;34m=\u001b[0m \u001b[0mResampler\u001b[0m\u001b[0;34m.\u001b[0m\u001b[0m__doc__\u001b[0m\u001b[0;34m\u001b[0m\u001b[0m\n\u001b[1;32m    946\u001b[0m \u001b[0;34m\u001b[0m\u001b[0m\n",
      "\u001b[0;32m/projects/anaconda3/lib/python3.5/site-packages/pandas/tseries/resample.py\u001b[0m in \u001b[0;36m_get_resampler\u001b[0;34m(self, obj, kind)\u001b[0m\n\u001b[1;32m   1055\u001b[0m         raise TypeError(\"Only valid with DatetimeIndex, \"\n\u001b[1;32m   1056\u001b[0m                         \u001b[0;34m\"TimedeltaIndex or PeriodIndex, \"\u001b[0m\u001b[0;34m\u001b[0m\u001b[0m\n\u001b[0;32m-> 1057\u001b[0;31m                         \"but got an instance of %r\" % type(ax).__name__)\n\u001b[0m\u001b[1;32m   1058\u001b[0m \u001b[0;34m\u001b[0m\u001b[0m\n\u001b[1;32m   1059\u001b[0m     \u001b[0;32mdef\u001b[0m \u001b[0m_get_grouper\u001b[0m\u001b[0;34m(\u001b[0m\u001b[0mself\u001b[0m\u001b[0;34m,\u001b[0m \u001b[0mobj\u001b[0m\u001b[0;34m)\u001b[0m\u001b[0;34m:\u001b[0m\u001b[0;34m\u001b[0m\u001b[0m\n",
      "\u001b[0;31mTypeError\u001b[0m: Only valid with DatetimeIndex, TimedeltaIndex or PeriodIndex, but got an instance of 'Int64Index'"
     ]
    }
   ],
   "source": [
    "inside_weather_march.resample('D').interpolate(method='linear')"
   ]
  },
  {
   "cell_type": "markdown",
   "metadata": {},
   "source": [
    "# Weather Data (Indoor)"
   ]
  },
  {
   "cell_type": "markdown",
   "metadata": {},
   "source": [
    "- graph goes by every seven days (2017)\n",
    "- graph goes by months (2016)"
   ]
  },
  {
   "cell_type": "code",
   "execution_count": 9,
   "metadata": {
    "collapsed": false
   },
   "outputs": [],
   "source": [
    "outside_weather_17 = pd.read_csv('NetAtmo_2017.csv', parse_dates=True, index_col=1)"
   ]
  },
  {
   "cell_type": "code",
   "execution_count": 10,
   "metadata": {
    "collapsed": false
   },
   "outputs": [
    {
     "data": {
      "text/plain": [
       "Index(['Timestamp', 'Temperature', 'Humidity', 'CO2', 'Noise', 'Pressure'], dtype='object')"
      ]
     },
     "execution_count": 10,
     "metadata": {},
     "output_type": "execute_result"
    }
   ],
   "source": [
    "outside_weather_17.columns"
   ]
  },
  {
   "cell_type": "code",
   "execution_count": 11,
   "metadata": {
    "collapsed": false
   },
   "outputs": [
    {
     "data": {
      "text/html": [
       "<div>\n",
       "<table border=\"1\" class=\"dataframe\">\n",
       "  <thead>\n",
       "    <tr style=\"text-align: right;\">\n",
       "      <th></th>\n",
       "      <th>Timestamp</th>\n",
       "      <th>Temperature</th>\n",
       "      <th>Humidity</th>\n",
       "      <th>CO2</th>\n",
       "      <th>Noise</th>\n",
       "      <th>Pressure</th>\n",
       "    </tr>\n",
       "    <tr>\n",
       "      <th>Timezone : America/Los_Angeles</th>\n",
       "      <th></th>\n",
       "      <th></th>\n",
       "      <th></th>\n",
       "      <th></th>\n",
       "      <th></th>\n",
       "      <th></th>\n",
       "    </tr>\n",
       "  </thead>\n",
       "  <tbody>\n",
       "    <tr>\n",
       "      <th>2017-01-01</th>\n",
       "      <td>1.483258e+09</td>\n",
       "      <td>21.800000</td>\n",
       "      <td>34.000</td>\n",
       "      <td>482.000000</td>\n",
       "      <td>39.000000</td>\n",
       "      <td>1009.100000</td>\n",
       "    </tr>\n",
       "    <tr>\n",
       "      <th>2017-01-02</th>\n",
       "      <td>1.483344e+09</td>\n",
       "      <td>22.420000</td>\n",
       "      <td>33.800</td>\n",
       "      <td>490.800000</td>\n",
       "      <td>38.400000</td>\n",
       "      <td>1010.360000</td>\n",
       "    </tr>\n",
       "    <tr>\n",
       "      <th>2017-01-03</th>\n",
       "      <td>1.483430e+09</td>\n",
       "      <td>23.040000</td>\n",
       "      <td>33.600</td>\n",
       "      <td>499.600000</td>\n",
       "      <td>37.800000</td>\n",
       "      <td>1011.620000</td>\n",
       "    </tr>\n",
       "    <tr>\n",
       "      <th>2017-01-04</th>\n",
       "      <td>1.483517e+09</td>\n",
       "      <td>23.660000</td>\n",
       "      <td>33.400</td>\n",
       "      <td>508.400000</td>\n",
       "      <td>37.200000</td>\n",
       "      <td>1012.880000</td>\n",
       "    </tr>\n",
       "    <tr>\n",
       "      <th>2017-01-05</th>\n",
       "      <td>1.483603e+09</td>\n",
       "      <td>24.280000</td>\n",
       "      <td>33.200</td>\n",
       "      <td>517.200000</td>\n",
       "      <td>36.600000</td>\n",
       "      <td>1014.140000</td>\n",
       "    </tr>\n",
       "    <tr>\n",
       "      <th>2017-01-06</th>\n",
       "      <td>1.483690e+09</td>\n",
       "      <td>24.900000</td>\n",
       "      <td>33.000</td>\n",
       "      <td>526.000000</td>\n",
       "      <td>36.000000</td>\n",
       "      <td>1015.400000</td>\n",
       "    </tr>\n",
       "    <tr>\n",
       "      <th>2017-01-07</th>\n",
       "      <td>1.483776e+09</td>\n",
       "      <td>27.000000</td>\n",
       "      <td>28.000</td>\n",
       "      <td>550.000000</td>\n",
       "      <td>37.000000</td>\n",
       "      <td>1011.400000</td>\n",
       "    </tr>\n",
       "    <tr>\n",
       "      <th>2017-01-08</th>\n",
       "      <td>1.483862e+09</td>\n",
       "      <td>26.425000</td>\n",
       "      <td>29.375</td>\n",
       "      <td>537.500000</td>\n",
       "      <td>36.875000</td>\n",
       "      <td>1012.037500</td>\n",
       "    </tr>\n",
       "    <tr>\n",
       "      <th>2017-01-09</th>\n",
       "      <td>1.483949e+09</td>\n",
       "      <td>25.850000</td>\n",
       "      <td>30.750</td>\n",
       "      <td>525.000000</td>\n",
       "      <td>36.750000</td>\n",
       "      <td>1012.675000</td>\n",
       "    </tr>\n",
       "    <tr>\n",
       "      <th>2017-01-10</th>\n",
       "      <td>1.484035e+09</td>\n",
       "      <td>25.275000</td>\n",
       "      <td>32.125</td>\n",
       "      <td>512.500000</td>\n",
       "      <td>36.625000</td>\n",
       "      <td>1013.312500</td>\n",
       "    </tr>\n",
       "    <tr>\n",
       "      <th>2017-01-11</th>\n",
       "      <td>1.484122e+09</td>\n",
       "      <td>24.700000</td>\n",
       "      <td>33.500</td>\n",
       "      <td>500.000000</td>\n",
       "      <td>36.500000</td>\n",
       "      <td>1013.950000</td>\n",
       "    </tr>\n",
       "    <tr>\n",
       "      <th>2017-01-12</th>\n",
       "      <td>1.484208e+09</td>\n",
       "      <td>24.125000</td>\n",
       "      <td>34.875</td>\n",
       "      <td>487.500000</td>\n",
       "      <td>36.375000</td>\n",
       "      <td>1014.587500</td>\n",
       "    </tr>\n",
       "    <tr>\n",
       "      <th>2017-01-13</th>\n",
       "      <td>1.484294e+09</td>\n",
       "      <td>23.550000</td>\n",
       "      <td>36.250</td>\n",
       "      <td>475.000000</td>\n",
       "      <td>36.250000</td>\n",
       "      <td>1015.225000</td>\n",
       "    </tr>\n",
       "    <tr>\n",
       "      <th>2017-01-14</th>\n",
       "      <td>1.484381e+09</td>\n",
       "      <td>22.975000</td>\n",
       "      <td>37.625</td>\n",
       "      <td>462.500000</td>\n",
       "      <td>36.125000</td>\n",
       "      <td>1015.862500</td>\n",
       "    </tr>\n",
       "    <tr>\n",
       "      <th>2017-01-15</th>\n",
       "      <td>1.484467e+09</td>\n",
       "      <td>22.400000</td>\n",
       "      <td>39.000</td>\n",
       "      <td>450.000000</td>\n",
       "      <td>36.000000</td>\n",
       "      <td>1016.500000</td>\n",
       "    </tr>\n",
       "    <tr>\n",
       "      <th>2017-01-16</th>\n",
       "      <td>1.484554e+09</td>\n",
       "      <td>23.250000</td>\n",
       "      <td>38.250</td>\n",
       "      <td>452.500000</td>\n",
       "      <td>36.000000</td>\n",
       "      <td>1013.325000</td>\n",
       "    </tr>\n",
       "    <tr>\n",
       "      <th>2017-01-17</th>\n",
       "      <td>1.484640e+09</td>\n",
       "      <td>24.100000</td>\n",
       "      <td>37.500</td>\n",
       "      <td>455.000000</td>\n",
       "      <td>36.000000</td>\n",
       "      <td>1010.150000</td>\n",
       "    </tr>\n",
       "    <tr>\n",
       "      <th>2017-01-18</th>\n",
       "      <td>1.484726e+09</td>\n",
       "      <td>24.950000</td>\n",
       "      <td>36.750</td>\n",
       "      <td>457.500000</td>\n",
       "      <td>36.000000</td>\n",
       "      <td>1006.975000</td>\n",
       "    </tr>\n",
       "    <tr>\n",
       "      <th>2017-01-19</th>\n",
       "      <td>1.484813e+09</td>\n",
       "      <td>25.800000</td>\n",
       "      <td>36.000</td>\n",
       "      <td>460.000000</td>\n",
       "      <td>36.000000</td>\n",
       "      <td>1003.800000</td>\n",
       "    </tr>\n",
       "    <tr>\n",
       "      <th>2017-01-20</th>\n",
       "      <td>1.484899e+09</td>\n",
       "      <td>24.850000</td>\n",
       "      <td>37.250</td>\n",
       "      <td>444.750000</td>\n",
       "      <td>37.250000</td>\n",
       "      <td>1003.175000</td>\n",
       "    </tr>\n",
       "    <tr>\n",
       "      <th>2017-01-21</th>\n",
       "      <td>1.484986e+09</td>\n",
       "      <td>23.900000</td>\n",
       "      <td>38.500</td>\n",
       "      <td>429.500000</td>\n",
       "      <td>38.500000</td>\n",
       "      <td>1002.550000</td>\n",
       "    </tr>\n",
       "    <tr>\n",
       "      <th>2017-01-22</th>\n",
       "      <td>1.485072e+09</td>\n",
       "      <td>22.950000</td>\n",
       "      <td>39.750</td>\n",
       "      <td>414.250000</td>\n",
       "      <td>39.750000</td>\n",
       "      <td>1001.925000</td>\n",
       "    </tr>\n",
       "    <tr>\n",
       "      <th>2017-01-23</th>\n",
       "      <td>1.485158e+09</td>\n",
       "      <td>22.000000</td>\n",
       "      <td>41.000</td>\n",
       "      <td>399.000000</td>\n",
       "      <td>41.000000</td>\n",
       "      <td>1001.300000</td>\n",
       "    </tr>\n",
       "    <tr>\n",
       "      <th>2017-01-24</th>\n",
       "      <td>1.485245e+09</td>\n",
       "      <td>26.200000</td>\n",
       "      <td>36.000</td>\n",
       "      <td>687.000000</td>\n",
       "      <td>37.000000</td>\n",
       "      <td>1007.300000</td>\n",
       "    </tr>\n",
       "    <tr>\n",
       "      <th>2017-01-25</th>\n",
       "      <td>1.485331e+09</td>\n",
       "      <td>20.200000</td>\n",
       "      <td>37.000</td>\n",
       "      <td>469.000000</td>\n",
       "      <td>46.000000</td>\n",
       "      <td>1018.600000</td>\n",
       "    </tr>\n",
       "    <tr>\n",
       "      <th>2017-01-26</th>\n",
       "      <td>1.485418e+09</td>\n",
       "      <td>20.333333</td>\n",
       "      <td>36.000</td>\n",
       "      <td>467.666667</td>\n",
       "      <td>42.666667</td>\n",
       "      <td>1022.633333</td>\n",
       "    </tr>\n",
       "    <tr>\n",
       "      <th>2017-01-27</th>\n",
       "      <td>1.485504e+09</td>\n",
       "      <td>20.466667</td>\n",
       "      <td>35.000</td>\n",
       "      <td>466.333333</td>\n",
       "      <td>39.333333</td>\n",
       "      <td>1026.666667</td>\n",
       "    </tr>\n",
       "    <tr>\n",
       "      <th>2017-01-28</th>\n",
       "      <td>1.485590e+09</td>\n",
       "      <td>20.600000</td>\n",
       "      <td>34.000</td>\n",
       "      <td>465.000000</td>\n",
       "      <td>36.000000</td>\n",
       "      <td>1030.700000</td>\n",
       "    </tr>\n",
       "    <tr>\n",
       "      <th>2017-01-29</th>\n",
       "      <td>1.485677e+09</td>\n",
       "      <td>20.880000</td>\n",
       "      <td>35.800</td>\n",
       "      <td>486.100000</td>\n",
       "      <td>36.700000</td>\n",
       "      <td>1027.970000</td>\n",
       "    </tr>\n",
       "    <tr>\n",
       "      <th>2017-01-30</th>\n",
       "      <td>1.485763e+09</td>\n",
       "      <td>21.160000</td>\n",
       "      <td>37.600</td>\n",
       "      <td>507.200000</td>\n",
       "      <td>37.400000</td>\n",
       "      <td>1025.240000</td>\n",
       "    </tr>\n",
       "    <tr>\n",
       "      <th>2017-01-31</th>\n",
       "      <td>1.485850e+09</td>\n",
       "      <td>21.440000</td>\n",
       "      <td>39.400</td>\n",
       "      <td>528.300000</td>\n",
       "      <td>38.100000</td>\n",
       "      <td>1022.510000</td>\n",
       "    </tr>\n",
       "    <tr>\n",
       "      <th>2017-02-01</th>\n",
       "      <td>1.485936e+09</td>\n",
       "      <td>21.720000</td>\n",
       "      <td>41.200</td>\n",
       "      <td>549.400000</td>\n",
       "      <td>38.800000</td>\n",
       "      <td>1019.780000</td>\n",
       "    </tr>\n",
       "    <tr>\n",
       "      <th>2017-02-02</th>\n",
       "      <td>1.486022e+09</td>\n",
       "      <td>22.000000</td>\n",
       "      <td>43.000</td>\n",
       "      <td>570.500000</td>\n",
       "      <td>39.500000</td>\n",
       "      <td>1017.050000</td>\n",
       "    </tr>\n",
       "    <tr>\n",
       "      <th>2017-02-03</th>\n",
       "      <td>1.486109e+09</td>\n",
       "      <td>22.280000</td>\n",
       "      <td>44.800</td>\n",
       "      <td>591.600000</td>\n",
       "      <td>40.200000</td>\n",
       "      <td>1014.320000</td>\n",
       "    </tr>\n",
       "    <tr>\n",
       "      <th>2017-02-04</th>\n",
       "      <td>1.486195e+09</td>\n",
       "      <td>22.560000</td>\n",
       "      <td>46.600</td>\n",
       "      <td>612.700000</td>\n",
       "      <td>40.900000</td>\n",
       "      <td>1011.590000</td>\n",
       "    </tr>\n",
       "    <tr>\n",
       "      <th>2017-02-05</th>\n",
       "      <td>1.486282e+09</td>\n",
       "      <td>22.840000</td>\n",
       "      <td>48.400</td>\n",
       "      <td>633.800000</td>\n",
       "      <td>41.600000</td>\n",
       "      <td>1008.860000</td>\n",
       "    </tr>\n",
       "    <tr>\n",
       "      <th>2017-02-06</th>\n",
       "      <td>1.486368e+09</td>\n",
       "      <td>23.120000</td>\n",
       "      <td>50.200</td>\n",
       "      <td>654.900000</td>\n",
       "      <td>42.300000</td>\n",
       "      <td>1006.130000</td>\n",
       "    </tr>\n",
       "    <tr>\n",
       "      <th>2017-02-07</th>\n",
       "      <td>1.486454e+09</td>\n",
       "      <td>23.400000</td>\n",
       "      <td>52.000</td>\n",
       "      <td>676.000000</td>\n",
       "      <td>43.000000</td>\n",
       "      <td>1003.400000</td>\n",
       "    </tr>\n",
       "    <tr>\n",
       "      <th>2017-02-08</th>\n",
       "      <td>1.486541e+09</td>\n",
       "      <td>22.866667</td>\n",
       "      <td>55.000</td>\n",
       "      <td>638.333333</td>\n",
       "      <td>40.333333</td>\n",
       "      <td>1005.533333</td>\n",
       "    </tr>\n",
       "    <tr>\n",
       "      <th>2017-02-09</th>\n",
       "      <td>1.486627e+09</td>\n",
       "      <td>22.333333</td>\n",
       "      <td>58.000</td>\n",
       "      <td>600.666667</td>\n",
       "      <td>37.666667</td>\n",
       "      <td>1007.666667</td>\n",
       "    </tr>\n",
       "    <tr>\n",
       "      <th>2017-02-10</th>\n",
       "      <td>1.486714e+09</td>\n",
       "      <td>21.800000</td>\n",
       "      <td>61.000</td>\n",
       "      <td>563.000000</td>\n",
       "      <td>35.000000</td>\n",
       "      <td>1009.800000</td>\n",
       "    </tr>\n",
       "    <tr>\n",
       "      <th>2017-02-11</th>\n",
       "      <td>1.486800e+09</td>\n",
       "      <td>21.500000</td>\n",
       "      <td>53.500</td>\n",
       "      <td>524.500000</td>\n",
       "      <td>35.500000</td>\n",
       "      <td>1014.200000</td>\n",
       "    </tr>\n",
       "    <tr>\n",
       "      <th>2017-02-12</th>\n",
       "      <td>1.486886e+09</td>\n",
       "      <td>21.200000</td>\n",
       "      <td>46.000</td>\n",
       "      <td>486.000000</td>\n",
       "      <td>36.000000</td>\n",
       "      <td>1018.600000</td>\n",
       "    </tr>\n",
       "  </tbody>\n",
       "</table>\n",
       "</div>"
      ],
      "text/plain": [
       "                                   Timestamp  Temperature  Humidity  \\\n",
       "Timezone : America/Los_Angeles                                        \n",
       "2017-01-01                      1.483258e+09    21.800000    34.000   \n",
       "2017-01-02                      1.483344e+09    22.420000    33.800   \n",
       "2017-01-03                      1.483430e+09    23.040000    33.600   \n",
       "2017-01-04                      1.483517e+09    23.660000    33.400   \n",
       "2017-01-05                      1.483603e+09    24.280000    33.200   \n",
       "2017-01-06                      1.483690e+09    24.900000    33.000   \n",
       "2017-01-07                      1.483776e+09    27.000000    28.000   \n",
       "2017-01-08                      1.483862e+09    26.425000    29.375   \n",
       "2017-01-09                      1.483949e+09    25.850000    30.750   \n",
       "2017-01-10                      1.484035e+09    25.275000    32.125   \n",
       "2017-01-11                      1.484122e+09    24.700000    33.500   \n",
       "2017-01-12                      1.484208e+09    24.125000    34.875   \n",
       "2017-01-13                      1.484294e+09    23.550000    36.250   \n",
       "2017-01-14                      1.484381e+09    22.975000    37.625   \n",
       "2017-01-15                      1.484467e+09    22.400000    39.000   \n",
       "2017-01-16                      1.484554e+09    23.250000    38.250   \n",
       "2017-01-17                      1.484640e+09    24.100000    37.500   \n",
       "2017-01-18                      1.484726e+09    24.950000    36.750   \n",
       "2017-01-19                      1.484813e+09    25.800000    36.000   \n",
       "2017-01-20                      1.484899e+09    24.850000    37.250   \n",
       "2017-01-21                      1.484986e+09    23.900000    38.500   \n",
       "2017-01-22                      1.485072e+09    22.950000    39.750   \n",
       "2017-01-23                      1.485158e+09    22.000000    41.000   \n",
       "2017-01-24                      1.485245e+09    26.200000    36.000   \n",
       "2017-01-25                      1.485331e+09    20.200000    37.000   \n",
       "2017-01-26                      1.485418e+09    20.333333    36.000   \n",
       "2017-01-27                      1.485504e+09    20.466667    35.000   \n",
       "2017-01-28                      1.485590e+09    20.600000    34.000   \n",
       "2017-01-29                      1.485677e+09    20.880000    35.800   \n",
       "2017-01-30                      1.485763e+09    21.160000    37.600   \n",
       "2017-01-31                      1.485850e+09    21.440000    39.400   \n",
       "2017-02-01                      1.485936e+09    21.720000    41.200   \n",
       "2017-02-02                      1.486022e+09    22.000000    43.000   \n",
       "2017-02-03                      1.486109e+09    22.280000    44.800   \n",
       "2017-02-04                      1.486195e+09    22.560000    46.600   \n",
       "2017-02-05                      1.486282e+09    22.840000    48.400   \n",
       "2017-02-06                      1.486368e+09    23.120000    50.200   \n",
       "2017-02-07                      1.486454e+09    23.400000    52.000   \n",
       "2017-02-08                      1.486541e+09    22.866667    55.000   \n",
       "2017-02-09                      1.486627e+09    22.333333    58.000   \n",
       "2017-02-10                      1.486714e+09    21.800000    61.000   \n",
       "2017-02-11                      1.486800e+09    21.500000    53.500   \n",
       "2017-02-12                      1.486886e+09    21.200000    46.000   \n",
       "\n",
       "                                       CO2      Noise     Pressure  \n",
       "Timezone : America/Los_Angeles                                      \n",
       "2017-01-01                      482.000000  39.000000  1009.100000  \n",
       "2017-01-02                      490.800000  38.400000  1010.360000  \n",
       "2017-01-03                      499.600000  37.800000  1011.620000  \n",
       "2017-01-04                      508.400000  37.200000  1012.880000  \n",
       "2017-01-05                      517.200000  36.600000  1014.140000  \n",
       "2017-01-06                      526.000000  36.000000  1015.400000  \n",
       "2017-01-07                      550.000000  37.000000  1011.400000  \n",
       "2017-01-08                      537.500000  36.875000  1012.037500  \n",
       "2017-01-09                      525.000000  36.750000  1012.675000  \n",
       "2017-01-10                      512.500000  36.625000  1013.312500  \n",
       "2017-01-11                      500.000000  36.500000  1013.950000  \n",
       "2017-01-12                      487.500000  36.375000  1014.587500  \n",
       "2017-01-13                      475.000000  36.250000  1015.225000  \n",
       "2017-01-14                      462.500000  36.125000  1015.862500  \n",
       "2017-01-15                      450.000000  36.000000  1016.500000  \n",
       "2017-01-16                      452.500000  36.000000  1013.325000  \n",
       "2017-01-17                      455.000000  36.000000  1010.150000  \n",
       "2017-01-18                      457.500000  36.000000  1006.975000  \n",
       "2017-01-19                      460.000000  36.000000  1003.800000  \n",
       "2017-01-20                      444.750000  37.250000  1003.175000  \n",
       "2017-01-21                      429.500000  38.500000  1002.550000  \n",
       "2017-01-22                      414.250000  39.750000  1001.925000  \n",
       "2017-01-23                      399.000000  41.000000  1001.300000  \n",
       "2017-01-24                      687.000000  37.000000  1007.300000  \n",
       "2017-01-25                      469.000000  46.000000  1018.600000  \n",
       "2017-01-26                      467.666667  42.666667  1022.633333  \n",
       "2017-01-27                      466.333333  39.333333  1026.666667  \n",
       "2017-01-28                      465.000000  36.000000  1030.700000  \n",
       "2017-01-29                      486.100000  36.700000  1027.970000  \n",
       "2017-01-30                      507.200000  37.400000  1025.240000  \n",
       "2017-01-31                      528.300000  38.100000  1022.510000  \n",
       "2017-02-01                      549.400000  38.800000  1019.780000  \n",
       "2017-02-02                      570.500000  39.500000  1017.050000  \n",
       "2017-02-03                      591.600000  40.200000  1014.320000  \n",
       "2017-02-04                      612.700000  40.900000  1011.590000  \n",
       "2017-02-05                      633.800000  41.600000  1008.860000  \n",
       "2017-02-06                      654.900000  42.300000  1006.130000  \n",
       "2017-02-07                      676.000000  43.000000  1003.400000  \n",
       "2017-02-08                      638.333333  40.333333  1005.533333  \n",
       "2017-02-09                      600.666667  37.666667  1007.666667  \n",
       "2017-02-10                      563.000000  35.000000  1009.800000  \n",
       "2017-02-11                      524.500000  35.500000  1014.200000  \n",
       "2017-02-12                      486.000000  36.000000  1018.600000  "
      ]
     },
     "execution_count": 11,
     "metadata": {},
     "output_type": "execute_result"
    }
   ],
   "source": [
    "outside_weather_17.resample('D').interpolate(method='linear')"
   ]
  },
  {
   "cell_type": "code",
   "execution_count": 12,
   "metadata": {
    "collapsed": false
   },
   "outputs": [
    {
     "data": {
      "text/plain": [
       "<matplotlib.axes._subplots.AxesSubplot at 0x7fee25be08d0>"
      ]
     },
     "execution_count": 12,
     "metadata": {},
     "output_type": "execute_result"
    },
    {
     "data": {
      "image/png": "[encoded data removed]",
      "text/plain": [
       "<matplotlib.figure.Figure at 0x7fee25be86d8>"
      ]
     },
     "metadata": {},
     "output_type": "display_data"
    }
   ],
   "source": [
    "%matplotlib inline\n",
    "outside_weather_17['Temperature'].plot()"
   ]
  },
  {
   "cell_type": "markdown",
   "metadata": {},
   "source": [
    "### Weather Data Analysis\n",
    "\n",
    "   We can use this data for outdoor and indoor readings to overall see how efficient the building material of the ETC is. By taking the change in temperature (difference of indoor and outdoor readings), we can figure out the r-value of the building. "
   ]
  },
  {
   "cell_type": "code",
   "execution_count": 13,
   "metadata": {
    "collapsed": true
   },
   "outputs": [],
   "source": [
    "outside_weather_16 = pd.read_csv('NetAtmo_2016.csv', parse_dates=True, index_col=1)"
   ]
  },
  {
   "cell_type": "code",
   "execution_count": 14,
   "metadata": {
    "collapsed": false
   },
   "outputs": [
    {
     "data": {
      "text/plain": [
       "<matplotlib.axes._subplots.AxesSubplot at 0x7fee44905208>"
      ]
     },
     "execution_count": 14,
     "metadata": {},
     "output_type": "execute_result"
    },
    {
     "data": {
      "image/png": "[encoded data removed]",
      "text/plain": [
       "<matplotlib.figure.Figure at 0x7fee241c2240>"
      ]
     },
     "metadata": {},
     "output_type": "display_data"
    }
   ],
   "source": [
    "pd.read_csv('ETC Data 439L.csv', parse_dates=True, index_col=0).diff(1)['House (kWH)'].plot()"
   ]
  },
  {
   "cell_type": "markdown",
   "metadata": {
    "collapsed": true
   },
   "source": [
    "# Analysis Still to be Done"
   ]
  },
  {
   "cell_type": "markdown",
   "metadata": {
    "collapsed": true
   },
   "source": [
    "- Outside weather data (February 2016-February 2017) still needs to be compared to indoor data to get a sense of how much energy is need to keep the ETC hospitable.\n",
    "- need to fix data so that there are no gaps "
   ]
  },
  {
   "cell_type": "code",
   "execution_count": null,
   "metadata": {
    "collapsed": true
   },
   "outputs": [],
   "source": []
  }
 ],
 "metadata": {
  "kernelspec": {
   "display_name": "Anaconda (Python 3)",
   "language": "python",
   "name": "anaconda3"
  },
  "language_info": {
   "codemirror_mode": {
    "name": "ipython",
    "version": 3
   },
   "file_extension": ".py",
   "mimetype": "text/x-python",
   "name": "python",
   "nbconvert_exporter": "python",
   "pygments_lexer": "ipython3",
   "version": "3.5.3"
  }
 },
 "nbformat": 4,
 "nbformat_minor": 0
}

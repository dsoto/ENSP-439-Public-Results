{
 "cells": [
  {
   "cell_type": "markdown",
   "metadata": {
    "collapsed": false
   },
   "source": [
    "# T-800's\n",
    "# Preliminary Report\n",
    "\n",
    "- Thomas J Messier\n",
    "- Nick Nobrega\n",
    "- Moses Kuzu\n",
    "- Jocelyn Keller\n",
    "- Ian Busch\n"
   ]
  },
  {
   "cell_type": "markdown",
   "metadata": {},
   "source": [
    "# Abstract:\n",
    "The T-800's preliminary report on reducing energy use in the Sonoma State Dorms consists of our mitigation technique, estimations on energy savings, and a baseline estimation of energy use.  Data provided is of our baseline estimation of energy use in the dorms.  Unfortunately, we are not able to obtain any actual data record of realtime energy use in the dorms at this time.  In order to obtain a baseline estimation, the group devised a survey to obtain a database of the average electrical appliances found in a dorm, as well as the average times these appliances are used in hours.  Our baseline of individual energy use 1 kwh per person.  Our bulk energy use per dorm unit accounts for items used by all residents 31.5 Kwh; not including HVAC. "
   ]
  },
  {
   "cell_type": "code",
   "execution_count": 1,
   "metadata": {
    "collapsed": false
   },
   "outputs": [
    {
     "data": {
      "text/html": [
       "<div>\n",
       "<table border=\"1\" class=\"dataframe\">\n",
       "  <thead>\n",
       "    <tr style=\"text-align: right;\">\n",
       "      <th></th>\n",
       "      <th>Appliance</th>\n",
       "      <th>Avg. Wattage\n",
       "(Watts)</th>\n",
       "      <th>Avg.Time Use\n",
       "(Hours)</th>\n",
       "      <th>Kwh\n",
       "(Energy)\n",
       "Per Day</th>\n",
       "    </tr>\n",
       "  </thead>\n",
       "  <tbody>\n",
       "    <tr>\n",
       "      <th>0</th>\n",
       "      <td>Microwave</td>\n",
       "      <td>1200.0</td>\n",
       "      <td>0.16</td>\n",
       "      <td>0.192</td>\n",
       "    </tr>\n",
       "    <tr>\n",
       "      <th>1</th>\n",
       "      <td>Laptop</td>\n",
       "      <td>60.0</td>\n",
       "      <td>3.00</td>\n",
       "      <td>0.180</td>\n",
       "    </tr>\n",
       "    <tr>\n",
       "      <th>2</th>\n",
       "      <td>Cell Phone</td>\n",
       "      <td>5.0</td>\n",
       "      <td>3.00</td>\n",
       "      <td>0.015</td>\n",
       "    </tr>\n",
       "    <tr>\n",
       "      <th>3</th>\n",
       "      <td>TV</td>\n",
       "      <td>80.0</td>\n",
       "      <td>2.50</td>\n",
       "      <td>0.200</td>\n",
       "    </tr>\n",
       "    <tr>\n",
       "      <th>4</th>\n",
       "      <td>Game System</td>\n",
       "      <td>100.0</td>\n",
       "      <td>2.00</td>\n",
       "      <td>0.200</td>\n",
       "    </tr>\n",
       "    <tr>\n",
       "      <th>5</th>\n",
       "      <td>Toaster</td>\n",
       "      <td>1200.0</td>\n",
       "      <td>0.03</td>\n",
       "      <td>0.036</td>\n",
       "    </tr>\n",
       "    <tr>\n",
       "      <th>6</th>\n",
       "      <td>Other</td>\n",
       "      <td>100.0</td>\n",
       "      <td>0.16</td>\n",
       "      <td>0.176</td>\n",
       "    </tr>\n",
       "    <tr>\n",
       "      <th>7</th>\n",
       "      <td>Total</td>\n",
       "      <td>NaN</td>\n",
       "      <td>NaN</td>\n",
       "      <td>0.999</td>\n",
       "    </tr>\n",
       "  </tbody>\n",
       "</table>\n",
       "</div>"
      ],
      "text/plain": [
       "     Appliance  Avg. Wattage\\n(Watts)\\n  Avg.Time Use\\n(Hours)\\n  \\\n",
       "0    Microwave                   1200.0                     0.16   \n",
       "1       Laptop                     60.0                     3.00   \n",
       "2   Cell Phone                      5.0                     3.00   \n",
       "3           TV                     80.0                     2.50   \n",
       "4  Game System                    100.0                     2.00   \n",
       "5      Toaster                   1200.0                     0.03   \n",
       "6       Other                     100.0                     0.16   \n",
       "7        Total                      NaN                      NaN   \n",
       "\n",
       "   Kwh\\n(Energy)\\nPer Day\\n  \n",
       "0                     0.192  \n",
       "1                     0.180  \n",
       "2                     0.015  \n",
       "3                     0.200  \n",
       "4                     0.200  \n",
       "5                     0.036  \n",
       "6                     0.176  \n",
       "7                     0.999  "
      ]
     },
     "execution_count": 1,
     "metadata": {},
     "output_type": "execute_result"
    }
   ],
   "source": [
    "import pandas as pd\n",
    "pd.read_csv('Energy_Use_1.csv')"
   ]
  },
  {
   "cell_type": "code",
   "execution_count": 2,
   "metadata": {
    "collapsed": false
   },
   "outputs": [
    {
     "data": {
      "text/html": [
       "<div>\n",
       "<table border=\"1\" class=\"dataframe\">\n",
       "  <thead>\n",
       "    <tr style=\"text-align: right;\">\n",
       "      <th></th>\n",
       "      <th>Kwh Per \n",
       "Resident</th>\n",
       "      <th>0.999</th>\n",
       "    </tr>\n",
       "  </thead>\n",
       "  <tbody>\n",
       "    <tr>\n",
       "      <th>0</th>\n",
       "      <td>Residents per\\ndorm\\n</td>\n",
       "      <td>4.5000</td>\n",
       "    </tr>\n",
       "    <tr>\n",
       "      <th>1</th>\n",
       "      <td>Units Per Dorm</td>\n",
       "      <td>7.0000</td>\n",
       "    </tr>\n",
       "    <tr>\n",
       "      <th>2</th>\n",
       "      <td>Total Kwh \\nPer Dorm\\n(Aggregate)\\n</td>\n",
       "      <td>31.4685</td>\n",
       "    </tr>\n",
       "  </tbody>\n",
       "</table>\n",
       "</div>"
      ],
      "text/plain": [
       "                    Kwh Per \\nResident    0.999\n",
       "0                Residents per\\ndorm\\n   4.5000\n",
       "1                       Units Per Dorm   7.0000\n",
       "2  Total Kwh \\nPer Dorm\\n(Aggregate)\\n  31.4685"
      ]
     },
     "execution_count": 2,
     "metadata": {},
     "output_type": "execute_result"
    }
   ],
   "source": [
    "import pandas as pd\n",
    "pd.read_csv('Energy_Use_2.csv')"
   ]
  },
  {
   "cell_type": "code",
   "execution_count": 3,
   "metadata": {
    "collapsed": false
   },
   "outputs": [
    {
     "data": {
      "text/html": [
       "<div>\n",
       "<table border=\"1\" class=\"dataframe\">\n",
       "  <thead>\n",
       "    <tr style=\"text-align: right;\">\n",
       "      <th></th>\n",
       "      <th>Appliance</th>\n",
       "      <th>Avg. Wattage\n",
       "(Watts)</th>\n",
       "      <th>Avg.Time Use\n",
       "(Hours)</th>\n",
       "      <th>Kwh\n",
       "(Energy)\n",
       "Per Day</th>\n",
       "    </tr>\n",
       "  </thead>\n",
       "  <tbody>\n",
       "    <tr>\n",
       "      <th>0</th>\n",
       "      <td>Fridge</td>\n",
       "      <td>725.0</td>\n",
       "      <td>6.00</td>\n",
       "      <td>4.35</td>\n",
       "    </tr>\n",
       "    <tr>\n",
       "      <th>1</th>\n",
       "      <td>Wifi Router</td>\n",
       "      <td>30.0</td>\n",
       "      <td>24.00</td>\n",
       "      <td>0.72</td>\n",
       "    </tr>\n",
       "    <tr>\n",
       "      <th>2</th>\n",
       "      <td>Coffee Maker</td>\n",
       "      <td>1000.0</td>\n",
       "      <td>0.16</td>\n",
       "      <td>0.16</td>\n",
       "    </tr>\n",
       "    <tr>\n",
       "      <th>3</th>\n",
       "      <td>HVAC</td>\n",
       "      <td>NaN</td>\n",
       "      <td>NaN</td>\n",
       "      <td>NaN</td>\n",
       "    </tr>\n",
       "    <tr>\n",
       "      <th>4</th>\n",
       "      <td>Total</td>\n",
       "      <td>NaN</td>\n",
       "      <td>NaN</td>\n",
       "      <td>5.23</td>\n",
       "    </tr>\n",
       "  </tbody>\n",
       "</table>\n",
       "</div>"
      ],
      "text/plain": [
       "      Appliance  Avg. Wattage\\n(Watts)\\n  Avg.Time Use\\n(Hours)\\n  \\\n",
       "0        Fridge                    725.0                     6.00   \n",
       "1   Wifi Router                     30.0                    24.00   \n",
       "2  Coffee Maker                   1000.0                     0.16   \n",
       "3          HVAC                      NaN                      NaN   \n",
       "4         Total                      NaN                      NaN   \n",
       "\n",
       "   Kwh\\n(Energy)\\nPer Day\\n  \n",
       "0                      4.35  \n",
       "1                      0.72  \n",
       "2                      0.16  \n",
       "3                       NaN  \n",
       "4                      5.23  "
      ]
     },
     "execution_count": 3,
     "metadata": {},
     "output_type": "execute_result"
    }
   ],
   "source": [
    "import pandas as pd\n",
    "pd.read_csv('Energy_Use_3.csv')"
   ]
  },
  {
   "cell_type": "markdown",
   "metadata": {},
   "source": [
    "Table above accounts for energy used by bulk appliances that every unit has installed and are used by every resident in the unit"
   ]
  },
  {
   "cell_type": "code",
   "execution_count": 4,
   "metadata": {
    "collapsed": false
   },
   "outputs": [
    {
     "data": {
      "text/plain": [
       "36.61"
      ]
     },
     "execution_count": 4,
     "metadata": {},
     "output_type": "execute_result"
    }
   ],
   "source": [
    "Dorm_Units = 7\n",
    "Total_Kwh_Bulk = 5.23\n",
    "Dorm_Units * Total_Kwh_Bulk"
   ]
  },
  {
   "cell_type": "code",
   "execution_count": 5,
   "metadata": {
    "collapsed": false
   },
   "outputs": [
    {
     "data": {
      "text/plain": [
       "68.07849999999999"
      ]
     },
     "execution_count": 5,
     "metadata": {},
     "output_type": "execute_result"
    }
   ],
   "source": [
    "Energy_Use_Residents = 31.4685\n",
    "Energy_Use_Bulk = 36.61\n",
    "Energy_Use_Residents + Energy_Use_Bulk "
   ]
  },
  {
   "cell_type": "markdown",
   "metadata": {},
   "source": [
    "- We estimate 68.08 Kwh are used per day running/using household appliances and personal electronic items in a typical Tuscany dorm building with 7 units per building\n",
    "- We can use this amount, and a future HVAC electrical use estimation subtracted against a cumulative Kwh amount used per day in the same dorm to account for energy used just in lighting \n",
    "- We are in the process of obtaining access to electrical meters and HVAC equipment in the Tuscany dorms in order to obtain accurate, real time cumulative Kwh readings as well as equipment ratings to account for electricity use when heating the building during times of the year when it is necessary\n",
    "- A baseline of Energy use was needed in order to obtain any data for our preliminary calculations and will be updated when further information is available"
   ]
  },
  {
   "cell_type": "markdown",
   "metadata": {},
   "source": [
    "# Estimation Summary:"
   ]
  },
  {
   "cell_type": "markdown",
   "metadata": {
    "collapsed": true
   },
   "source": [
    "For our mitigation technique of installing “Watt-Stopper” Occupancy Light Switches instead of manual on/off currently installed in Sonoma State University dorms, we have estimated an annual potential savings total of 166 dollars. \"Watt-Stopper” is the brand of switch installed in other buildings throughout Sonoma State University (SSU), and would be the only brand SSU housing staff would be able to install.  An accurate model of switch currently installed has not been determined.  In order to make an estimation of payback, we researched through google.com and found an average cost of 59 dollars per “Watt-Stopper” switch.  We have determined a max of 4 switches can be installed per dorm unit.  A total cost of 1,652 dollars per 7 dorm units, 28 total switches installed.  If this estimation holds true, we determine the payback period to be 10 years.  This payback period is estimated using a basic Net Present Value (NPV) calculation without accounting for inflation.  We have also evaluated the potential of putting the same investment into a simple interest savings account at a discount rate of 2 percent.  After the same time period of 10 years, the investment would generate 2,013 dollars in a savings account.  As a group we feel this difference would not make our mitigation technique invalid.\n"
   ]
  },
  {
   "cell_type": "markdown",
   "metadata": {
    "collapsed": true
   },
   "source": [
    "# Estimation Spreadsheet Link\n",
    "\n",
    "https://docs.google.com/a/sonoma.edu/spreadsheets/d/1T69NgdVlxPg3XQOcGWo7wuRkRmN_cW6f6z8rgYt_lJE/edit?usp=sharing"
   ]
  },
  {
   "cell_type": "code",
   "execution_count": null,
   "metadata": {
    "collapsed": true
   },
   "outputs": [],
   "source": []
  }
 ],
 "metadata": {
  "kernelspec": {
   "display_name": "Anaconda (Python 3)",
   "language": "python",
   "name": "anaconda3"
  },
  "language_info": {
   "codemirror_mode": {
    "name": "ipython",
    "version": 3
   },
   "file_extension": ".py",
   "mimetype": "text/x-python",
   "name": "python",
   "nbconvert_exporter": "python",
   "pygments_lexer": "ipython3",
   "version": "3.5.3"
  }
 },
 "nbformat": 4,
 "nbformat_minor": 0
}

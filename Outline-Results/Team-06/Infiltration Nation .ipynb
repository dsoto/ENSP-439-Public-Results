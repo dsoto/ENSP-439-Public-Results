{
 "cells": [
  {
   "cell_type": "markdown",
   "metadata": {
    "collapsed": false
   },
   "source": [
    "### This is just brain drain of the analysis process and is not detailed enough for exact units at the moment since I don't know all the units yet; we can clean it up, amend it, or scrap it later. \n",
    "We ultimately want to find cfms per hour. How do we go about that?\n",
    "Breaking down what the question is asking us, we get cubic feet per minute per hour.\n",
    "Essentially though, in order to get a CFM number for a ventilation fan that is appropriate for a total circulation of the ETC air space in one hour, we would need to acquire only one variable:\n",
    "- total approximate volume of the ETC, all rooms included or no?\n",
    "\n",
    "Because of the assumed steadiness of our real question of air changes per hour using CO2 escape rates, using one hour for an air change is fine... as the ETC's will probably be a little over an hour for one full air change.\n",
    "\n",
    "Using x volume of the ETC in Cubic Feet, we multiply by 1 air change, and then divide by 60 minutes to get the ideal ETC CFM!\n",
    "\n",
    "\n",
    "But wait, our question of study is to determine the ACTUAL CFMs through infiltration of the ETC using the CO2 decay rates, and so our analysis will stem from data we collect from NetAtmo to begin with.\n",
    "\n",
    "Assuming we get a steady rate of decrease from the CO2 decay data, we can get a change of CO2 per hour; per hour because it'll help in our conversion to CFM later on.\n",
    "\n",
    "Now we need a ratio of the peak CO2 per cubic foot of the ETC, assuming the CO2 is spread evenly throughout the volume of the ETC; this ratio will allow us to compare it with the change of CO2 per hour we got above.\n",
    "\n",
    "\n",
    "The amount of CO2 decrease per hour can then be divided up by the ratio above to get the cubic feet per hour infiltration rate.\n",
    "\n",
    "With our cubic feet per hour we can divide once more by 60 minutes to get our result of cubic feet per minute aka a true CFM infiltration rate; or we can just keep it at CFM per hour, whatever suits our needs. \n",
    "\n",
    "An example problem of rudimentary coding for 2016 data is started in NetAtmo_2016.ipynb at the bottom."
   ]
  },
  {
   "cell_type": "code",
   "execution_count": 18,
   "metadata": {
    "collapsed": false
   },
   "outputs": [
    {
     "data": {
      "text/html": [
       "<div>\n",
       "<table border=\"1\" class=\"dataframe\">\n",
       "  <thead>\n",
       "    <tr style=\"text-align: right;\">\n",
       "      <th></th>\n",
       "      <th>Timestamp</th>\n",
       "      <th>Temperature</th>\n",
       "      <th>Humidity</th>\n",
       "      <th>CO2</th>\n",
       "      <th>Noise</th>\n",
       "      <th>Pressure</th>\n",
       "    </tr>\n",
       "    <tr>\n",
       "      <th>Timezone : America/Los_Angeles</th>\n",
       "      <th></th>\n",
       "      <th></th>\n",
       "      <th></th>\n",
       "      <th></th>\n",
       "      <th></th>\n",
       "      <th></th>\n",
       "    </tr>\n",
       "  </thead>\n",
       "  <tbody>\n",
       "    <tr>\n",
       "      <th>2016-12-31 23:35:00</th>\n",
       "      <td>1483256148</td>\n",
       "      <td>21.7</td>\n",
       "      <td>34</td>\n",
       "      <td>483.0</td>\n",
       "      <td>37.0</td>\n",
       "      <td>1009.3</td>\n",
       "    </tr>\n",
       "    <tr>\n",
       "      <th>2016-12-31 23:40:00</th>\n",
       "      <td>1483256449</td>\n",
       "      <td>21.7</td>\n",
       "      <td>34</td>\n",
       "      <td>485.0</td>\n",
       "      <td>38.0</td>\n",
       "      <td>1009.2</td>\n",
       "    </tr>\n",
       "    <tr>\n",
       "      <th>2016-12-31 23:45:00</th>\n",
       "      <td>1483256751</td>\n",
       "      <td>21.7</td>\n",
       "      <td>34</td>\n",
       "      <td>489.0</td>\n",
       "      <td>37.0</td>\n",
       "      <td>1009.0</td>\n",
       "    </tr>\n",
       "    <tr>\n",
       "      <th>2016-12-31 23:50:00</th>\n",
       "      <td>1483257054</td>\n",
       "      <td>21.8</td>\n",
       "      <td>34</td>\n",
       "      <td>475.0</td>\n",
       "      <td>38.0</td>\n",
       "      <td>1008.9</td>\n",
       "    </tr>\n",
       "    <tr>\n",
       "      <th>2016-12-31 23:55:00</th>\n",
       "      <td>1483257356</td>\n",
       "      <td>21.8</td>\n",
       "      <td>34</td>\n",
       "      <td>475.0</td>\n",
       "      <td>37.0</td>\n",
       "      <td>1008.9</td>\n",
       "    </tr>\n",
       "  </tbody>\n",
       "</table>\n",
       "</div>"
      ],
      "text/plain": [
       "                                 Timestamp  Temperature  Humidity    CO2  \\\n",
       "Timezone : America/Los_Angeles                                             \n",
       "2016-12-31 23:35:00             1483256148         21.7        34  483.0   \n",
       "2016-12-31 23:40:00             1483256449         21.7        34  485.0   \n",
       "2016-12-31 23:45:00             1483256751         21.7        34  489.0   \n",
       "2016-12-31 23:50:00             1483257054         21.8        34  475.0   \n",
       "2016-12-31 23:55:00             1483257356         21.8        34  475.0   \n",
       "\n",
       "                                Noise  Pressure  \n",
       "Timezone : America/Los_Angeles                   \n",
       "2016-12-31 23:35:00              37.0    1009.3  \n",
       "2016-12-31 23:40:00              38.0    1009.2  \n",
       "2016-12-31 23:45:00              37.0    1009.0  \n",
       "2016-12-31 23:50:00              38.0    1008.9  \n",
       "2016-12-31 23:55:00              37.0    1008.9  "
      ]
     },
     "execution_count": 18,
     "metadata": {},
     "output_type": "execute_result"
    }
   ],
   "source": [
    "#%matplotlib notebook\n",
    "%matplotlib inline\n",
    "import matplotlib.pyplot as plt\n",
    "import numpy as np\n",
    "import pandas as pd\n",
    "data = pd.read_csv('NetAtmo_2016.csv', \n",
    "                   index_col=1,      # use column 1 as the dates to index the data\n",
    "                   parse_dates=True) # convert the date string into a date object\n",
    "data[-5:]"
   ]
  },
  {
   "cell_type": "markdown",
   "metadata": {
    "collapsed": true
   },
   "source": [
    "Starting with the calculations of three samples of CO2 decay after EMD forum to get an average CO2 decay per hour."
   ]
  },
  {
   "cell_type": "code",
   "execution_count": 19,
   "metadata": {
    "collapsed": false
   },
   "outputs": [
    {
     "data": {
      "text/html": [
       "<div>\n",
       "<table border=\"1\" class=\"dataframe\">\n",
       "  <thead>\n",
       "    <tr style=\"text-align: right;\">\n",
       "      <th></th>\n",
       "      <th>Timestamp</th>\n",
       "      <th>Temperature</th>\n",
       "      <th>Humidity</th>\n",
       "      <th>CO2</th>\n",
       "      <th>Noise</th>\n",
       "      <th>Pressure</th>\n",
       "    </tr>\n",
       "    <tr>\n",
       "      <th>Timezone : America/Los_Angeles</th>\n",
       "      <th></th>\n",
       "      <th></th>\n",
       "      <th></th>\n",
       "      <th></th>\n",
       "      <th></th>\n",
       "      <th></th>\n",
       "    </tr>\n",
       "  </thead>\n",
       "  <tbody>\n",
       "    <tr>\n",
       "      <th>2016-03-02 18:09:00</th>\n",
       "      <td>1456970953</td>\n",
       "      <td>24.4</td>\n",
       "      <td>58</td>\n",
       "      <td>1072.0</td>\n",
       "      <td>45.0</td>\n",
       "      <td>1014.2</td>\n",
       "    </tr>\n",
       "    <tr>\n",
       "      <th>2016-03-02 18:14:00</th>\n",
       "      <td>1456971255</td>\n",
       "      <td>24.4</td>\n",
       "      <td>58</td>\n",
       "      <td>1036.0</td>\n",
       "      <td>72.0</td>\n",
       "      <td>1014.2</td>\n",
       "    </tr>\n",
       "    <tr>\n",
       "      <th>2016-03-02 18:19:00</th>\n",
       "      <td>1456971556</td>\n",
       "      <td>24.4</td>\n",
       "      <td>58</td>\n",
       "      <td>998.0</td>\n",
       "      <td>46.0</td>\n",
       "      <td>1014.2</td>\n",
       "    </tr>\n",
       "    <tr>\n",
       "      <th>2016-03-02 18:24:00</th>\n",
       "      <td>1456971858</td>\n",
       "      <td>24.5</td>\n",
       "      <td>58</td>\n",
       "      <td>972.0</td>\n",
       "      <td>39.0</td>\n",
       "      <td>1014.1</td>\n",
       "    </tr>\n",
       "    <tr>\n",
       "      <th>2016-03-02 18:29:00</th>\n",
       "      <td>1456972159</td>\n",
       "      <td>24.4</td>\n",
       "      <td>58</td>\n",
       "      <td>968.0</td>\n",
       "      <td>42.0</td>\n",
       "      <td>1014.0</td>\n",
       "    </tr>\n",
       "    <tr>\n",
       "      <th>2016-03-02 18:34:00</th>\n",
       "      <td>1456972461</td>\n",
       "      <td>24.4</td>\n",
       "      <td>58</td>\n",
       "      <td>947.0</td>\n",
       "      <td>44.0</td>\n",
       "      <td>1014.1</td>\n",
       "    </tr>\n",
       "    <tr>\n",
       "      <th>2016-03-02 18:39:00</th>\n",
       "      <td>1456972763</td>\n",
       "      <td>24.4</td>\n",
       "      <td>58</td>\n",
       "      <td>967.0</td>\n",
       "      <td>40.0</td>\n",
       "      <td>1014.1</td>\n",
       "    </tr>\n",
       "    <tr>\n",
       "      <th>2016-03-02 18:44:00</th>\n",
       "      <td>1456973065</td>\n",
       "      <td>24.4</td>\n",
       "      <td>58</td>\n",
       "      <td>952.0</td>\n",
       "      <td>40.0</td>\n",
       "      <td>1014.2</td>\n",
       "    </tr>\n",
       "    <tr>\n",
       "      <th>2016-03-02 18:49:00</th>\n",
       "      <td>1456973366</td>\n",
       "      <td>24.3</td>\n",
       "      <td>58</td>\n",
       "      <td>954.0</td>\n",
       "      <td>38.0</td>\n",
       "      <td>1014.1</td>\n",
       "    </tr>\n",
       "    <tr>\n",
       "      <th>2016-03-02 18:54:00</th>\n",
       "      <td>1456973669</td>\n",
       "      <td>24.3</td>\n",
       "      <td>58</td>\n",
       "      <td>961.0</td>\n",
       "      <td>37.0</td>\n",
       "      <td>1014.1</td>\n",
       "    </tr>\n",
       "    <tr>\n",
       "      <th>2016-03-02 18:59:00</th>\n",
       "      <td>1456973970</td>\n",
       "      <td>24.3</td>\n",
       "      <td>58</td>\n",
       "      <td>957.0</td>\n",
       "      <td>37.0</td>\n",
       "      <td>1014.2</td>\n",
       "    </tr>\n",
       "    <tr>\n",
       "      <th>2016-03-02 19:04:00</th>\n",
       "      <td>1456974272</td>\n",
       "      <td>24.3</td>\n",
       "      <td>58</td>\n",
       "      <td>945.0</td>\n",
       "      <td>37.0</td>\n",
       "      <td>1014.2</td>\n",
       "    </tr>\n",
       "    <tr>\n",
       "      <th>2016-03-02 19:09:00</th>\n",
       "      <td>1456974573</td>\n",
       "      <td>24.2</td>\n",
       "      <td>58</td>\n",
       "      <td>943.0</td>\n",
       "      <td>37.0</td>\n",
       "      <td>1014.2</td>\n",
       "    </tr>\n",
       "  </tbody>\n",
       "</table>\n",
       "</div>"
      ],
      "text/plain": [
       "                                 Timestamp  Temperature  Humidity     CO2  \\\n",
       "Timezone : America/Los_Angeles                                              \n",
       "2016-03-02 18:09:00             1456970953         24.4        58  1072.0   \n",
       "2016-03-02 18:14:00             1456971255         24.4        58  1036.0   \n",
       "2016-03-02 18:19:00             1456971556         24.4        58   998.0   \n",
       "2016-03-02 18:24:00             1456971858         24.5        58   972.0   \n",
       "2016-03-02 18:29:00             1456972159         24.4        58   968.0   \n",
       "2016-03-02 18:34:00             1456972461         24.4        58   947.0   \n",
       "2016-03-02 18:39:00             1456972763         24.4        58   967.0   \n",
       "2016-03-02 18:44:00             1456973065         24.4        58   952.0   \n",
       "2016-03-02 18:49:00             1456973366         24.3        58   954.0   \n",
       "2016-03-02 18:54:00             1456973669         24.3        58   961.0   \n",
       "2016-03-02 18:59:00             1456973970         24.3        58   957.0   \n",
       "2016-03-02 19:04:00             1456974272         24.3        58   945.0   \n",
       "2016-03-02 19:09:00             1456974573         24.2        58   943.0   \n",
       "\n",
       "                                Noise  Pressure  \n",
       "Timezone : America/Los_Angeles                   \n",
       "2016-03-02 18:09:00              45.0    1014.2  \n",
       "2016-03-02 18:14:00              72.0    1014.2  \n",
       "2016-03-02 18:19:00              46.0    1014.2  \n",
       "2016-03-02 18:24:00              39.0    1014.1  \n",
       "2016-03-02 18:29:00              42.0    1014.0  \n",
       "2016-03-02 18:34:00              44.0    1014.1  \n",
       "2016-03-02 18:39:00              40.0    1014.1  \n",
       "2016-03-02 18:44:00              40.0    1014.2  \n",
       "2016-03-02 18:49:00              38.0    1014.1  \n",
       "2016-03-02 18:54:00              37.0    1014.1  \n",
       "2016-03-02 18:59:00              37.0    1014.2  \n",
       "2016-03-02 19:04:00              37.0    1014.2  \n",
       "2016-03-02 19:09:00              37.0    1014.2  "
      ]
     },
     "execution_count": 19,
     "metadata": {},
     "output_type": "execute_result"
    }
   ],
   "source": [
    "time2 = '2016-03-02 18:09:00' #Date for: Peak CO2 reading, first Wed of March at end of EMD forum last spring\n",
    "time1 = '2016-03-02 19:09:00' #Date for: CO2 reading an hour after conclusion of EMD forum\n",
    "\n",
    "data[time2:time1]"
   ]
  },
  {
   "cell_type": "code",
   "execution_count": 20,
   "metadata": {
    "collapsed": false
   },
   "outputs": [
    {
     "data": {
      "text/plain": [
       "129"
      ]
     },
     "execution_count": 20,
     "metadata": {},
     "output_type": "execute_result"
    }
   ],
   "source": [
    "first_peakCO2_EMDforum = 1072 \n",
    "first_CO2_hourafterEMDforum = 943\n",
    "first_CO2decay_per_hour = first_peakCO2_EMDforum - first_CO2_hourafterEMDforum\n",
    "first_peakCO2_EMDforum - first_CO2_hourafterEMDforum"
   ]
  },
  {
   "cell_type": "code",
   "execution_count": 21,
   "metadata": {
    "collapsed": true
   },
   "outputs": [],
   "source": [
    "first_CO2decay_per_hour = 129 #doors open or not?"
   ]
  },
  {
   "cell_type": "code",
   "execution_count": 22,
   "metadata": {
    "collapsed": false
   },
   "outputs": [
    {
     "data": {
      "text/html": [
       "<div>\n",
       "<table border=\"1\" class=\"dataframe\">\n",
       "  <thead>\n",
       "    <tr style=\"text-align: right;\">\n",
       "      <th></th>\n",
       "      <th>Timestamp</th>\n",
       "      <th>Temperature</th>\n",
       "      <th>Humidity</th>\n",
       "      <th>CO2</th>\n",
       "      <th>Noise</th>\n",
       "      <th>Pressure</th>\n",
       "    </tr>\n",
       "    <tr>\n",
       "      <th>Timezone : America/Los_Angeles</th>\n",
       "      <th></th>\n",
       "      <th></th>\n",
       "      <th></th>\n",
       "      <th></th>\n",
       "      <th></th>\n",
       "      <th></th>\n",
       "    </tr>\n",
       "  </thead>\n",
       "  <tbody>\n",
       "    <tr>\n",
       "      <th>2016-03-09 18:18:00</th>\n",
       "      <td>1457576280</td>\n",
       "      <td>26.0</td>\n",
       "      <td>53</td>\n",
       "      <td>771.0</td>\n",
       "      <td>75.0</td>\n",
       "      <td>1012.9</td>\n",
       "    </tr>\n",
       "    <tr>\n",
       "      <th>2016-03-09 18:23:00</th>\n",
       "      <td>1457576582</td>\n",
       "      <td>26.0</td>\n",
       "      <td>53</td>\n",
       "      <td>759.0</td>\n",
       "      <td>62.0</td>\n",
       "      <td>1013.0</td>\n",
       "    </tr>\n",
       "    <tr>\n",
       "      <th>2016-03-09 18:28:00</th>\n",
       "      <td>1457576883</td>\n",
       "      <td>26.1</td>\n",
       "      <td>53</td>\n",
       "      <td>761.0</td>\n",
       "      <td>45.0</td>\n",
       "      <td>1012.9</td>\n",
       "    </tr>\n",
       "    <tr>\n",
       "      <th>2016-03-09 18:33:00</th>\n",
       "      <td>1457577185</td>\n",
       "      <td>26.1</td>\n",
       "      <td>53</td>\n",
       "      <td>758.0</td>\n",
       "      <td>40.0</td>\n",
       "      <td>1013.0</td>\n",
       "    </tr>\n",
       "    <tr>\n",
       "      <th>2016-03-09 18:38:00</th>\n",
       "      <td>1457577486</td>\n",
       "      <td>26.1</td>\n",
       "      <td>53</td>\n",
       "      <td>751.0</td>\n",
       "      <td>39.0</td>\n",
       "      <td>1013.0</td>\n",
       "    </tr>\n",
       "    <tr>\n",
       "      <th>2016-03-09 18:43:00</th>\n",
       "      <td>1457577789</td>\n",
       "      <td>26.0</td>\n",
       "      <td>53</td>\n",
       "      <td>748.0</td>\n",
       "      <td>37.0</td>\n",
       "      <td>1013.0</td>\n",
       "    </tr>\n",
       "    <tr>\n",
       "      <th>2016-03-09 18:48:00</th>\n",
       "      <td>1457578090</td>\n",
       "      <td>26.0</td>\n",
       "      <td>53</td>\n",
       "      <td>747.0</td>\n",
       "      <td>37.0</td>\n",
       "      <td>1013.0</td>\n",
       "    </tr>\n",
       "    <tr>\n",
       "      <th>2016-03-09 18:53:00</th>\n",
       "      <td>1457578393</td>\n",
       "      <td>25.9</td>\n",
       "      <td>53</td>\n",
       "      <td>744.0</td>\n",
       "      <td>37.0</td>\n",
       "      <td>1013.3</td>\n",
       "    </tr>\n",
       "    <tr>\n",
       "      <th>2016-03-09 18:58:00</th>\n",
       "      <td>1457578695</td>\n",
       "      <td>25.9</td>\n",
       "      <td>53</td>\n",
       "      <td>736.0</td>\n",
       "      <td>37.0</td>\n",
       "      <td>1013.4</td>\n",
       "    </tr>\n",
       "    <tr>\n",
       "      <th>2016-03-09 19:03:00</th>\n",
       "      <td>1457578997</td>\n",
       "      <td>25.9</td>\n",
       "      <td>53</td>\n",
       "      <td>740.0</td>\n",
       "      <td>36.0</td>\n",
       "      <td>1013.4</td>\n",
       "    </tr>\n",
       "    <tr>\n",
       "      <th>2016-03-09 19:08:00</th>\n",
       "      <td>1457579298</td>\n",
       "      <td>25.8</td>\n",
       "      <td>53</td>\n",
       "      <td>733.0</td>\n",
       "      <td>39.0</td>\n",
       "      <td>1013.4</td>\n",
       "    </tr>\n",
       "    <tr>\n",
       "      <th>2016-03-09 19:13:00</th>\n",
       "      <td>1457579599</td>\n",
       "      <td>25.8</td>\n",
       "      <td>53</td>\n",
       "      <td>728.0</td>\n",
       "      <td>36.0</td>\n",
       "      <td>1013.3</td>\n",
       "    </tr>\n",
       "    <tr>\n",
       "      <th>2016-03-09 19:18:00</th>\n",
       "      <td>1457579900</td>\n",
       "      <td>25.8</td>\n",
       "      <td>53</td>\n",
       "      <td>730.0</td>\n",
       "      <td>36.0</td>\n",
       "      <td>1013.3</td>\n",
       "    </tr>\n",
       "  </tbody>\n",
       "</table>\n",
       "</div>"
      ],
      "text/plain": [
       "                                 Timestamp  Temperature  Humidity    CO2  \\\n",
       "Timezone : America/Los_Angeles                                             \n",
       "2016-03-09 18:18:00             1457576280         26.0        53  771.0   \n",
       "2016-03-09 18:23:00             1457576582         26.0        53  759.0   \n",
       "2016-03-09 18:28:00             1457576883         26.1        53  761.0   \n",
       "2016-03-09 18:33:00             1457577185         26.1        53  758.0   \n",
       "2016-03-09 18:38:00             1457577486         26.1        53  751.0   \n",
       "2016-03-09 18:43:00             1457577789         26.0        53  748.0   \n",
       "2016-03-09 18:48:00             1457578090         26.0        53  747.0   \n",
       "2016-03-09 18:53:00             1457578393         25.9        53  744.0   \n",
       "2016-03-09 18:58:00             1457578695         25.9        53  736.0   \n",
       "2016-03-09 19:03:00             1457578997         25.9        53  740.0   \n",
       "2016-03-09 19:08:00             1457579298         25.8        53  733.0   \n",
       "2016-03-09 19:13:00             1457579599         25.8        53  728.0   \n",
       "2016-03-09 19:18:00             1457579900         25.8        53  730.0   \n",
       "\n",
       "                                Noise  Pressure  \n",
       "Timezone : America/Los_Angeles                   \n",
       "2016-03-09 18:18:00              75.0    1012.9  \n",
       "2016-03-09 18:23:00              62.0    1013.0  \n",
       "2016-03-09 18:28:00              45.0    1012.9  \n",
       "2016-03-09 18:33:00              40.0    1013.0  \n",
       "2016-03-09 18:38:00              39.0    1013.0  \n",
       "2016-03-09 18:43:00              37.0    1013.0  \n",
       "2016-03-09 18:48:00              37.0    1013.0  \n",
       "2016-03-09 18:53:00              37.0    1013.3  \n",
       "2016-03-09 18:58:00              37.0    1013.4  \n",
       "2016-03-09 19:03:00              36.0    1013.4  \n",
       "2016-03-09 19:08:00              39.0    1013.4  \n",
       "2016-03-09 19:13:00              36.0    1013.3  \n",
       "2016-03-09 19:18:00              36.0    1013.3  "
      ]
     },
     "execution_count": 22,
     "metadata": {},
     "output_type": "execute_result"
    }
   ],
   "source": [
    "time2 = '2016-03-09 18:18:00' #Date for: Peak CO2 reading, second Wed of March at end of EMD forum last spring\n",
    "time1 = '2016-03-09 19:18:00' #Date for: CO2 reading an hour after conclusion of EMD forum\n",
    "\n",
    "data[time2:time1]"
   ]
  },
  {
   "cell_type": "code",
   "execution_count": 23,
   "metadata": {
    "collapsed": false
   },
   "outputs": [
    {
     "data": {
      "text/plain": [
       "41"
      ]
     },
     "execution_count": 23,
     "metadata": {},
     "output_type": "execute_result"
    }
   ],
   "source": [
    "secnd_peakCO2_EMDforum = 771\n",
    "secnd_CO2_hourafterEMDforum = 730\n",
    "secnd_CO2decay_per_hour = secnd_peakCO2_EMDforum - secnd_CO2_hourafterEMDforum\n",
    "secnd_peakCO2_EMDforum - secnd_CO2_hourafterEMDforum"
   ]
  },
  {
   "cell_type": "code",
   "execution_count": 24,
   "metadata": {
    "collapsed": true
   },
   "outputs": [],
   "source": [
    "secnd_CO2decay_per_hour = 41 #doors closed or something?"
   ]
  },
  {
   "cell_type": "code",
   "execution_count": 25,
   "metadata": {
    "collapsed": false
   },
   "outputs": [
    {
     "data": {
      "text/html": [
       "<div>\n",
       "<table border=\"1\" class=\"dataframe\">\n",
       "  <thead>\n",
       "    <tr style=\"text-align: right;\">\n",
       "      <th></th>\n",
       "      <th>Timestamp</th>\n",
       "      <th>Temperature</th>\n",
       "      <th>Humidity</th>\n",
       "      <th>CO2</th>\n",
       "      <th>Noise</th>\n",
       "      <th>Pressure</th>\n",
       "    </tr>\n",
       "    <tr>\n",
       "      <th>Timezone : America/Los_Angeles</th>\n",
       "      <th></th>\n",
       "      <th></th>\n",
       "      <th></th>\n",
       "      <th></th>\n",
       "      <th></th>\n",
       "      <th></th>\n",
       "    </tr>\n",
       "  </thead>\n",
       "  <tbody>\n",
       "    <tr>\n",
       "      <th>2016-03-23 17:28:00</th>\n",
       "      <td>1458779296</td>\n",
       "      <td>24.2</td>\n",
       "      <td>45</td>\n",
       "      <td>587.0</td>\n",
       "      <td>60.0</td>\n",
       "      <td>1020.7</td>\n",
       "    </tr>\n",
       "    <tr>\n",
       "      <th>2016-03-23 17:33:00</th>\n",
       "      <td>1458779600</td>\n",
       "      <td>24.2</td>\n",
       "      <td>45</td>\n",
       "      <td>557.0</td>\n",
       "      <td>71.0</td>\n",
       "      <td>1020.6</td>\n",
       "    </tr>\n",
       "    <tr>\n",
       "      <th>2016-03-23 17:38:00</th>\n",
       "      <td>1458779901</td>\n",
       "      <td>24.0</td>\n",
       "      <td>45</td>\n",
       "      <td>521.0</td>\n",
       "      <td>66.0</td>\n",
       "      <td>1020.6</td>\n",
       "    </tr>\n",
       "    <tr>\n",
       "      <th>2016-03-23 17:43:00</th>\n",
       "      <td>1458780202</td>\n",
       "      <td>23.9</td>\n",
       "      <td>45</td>\n",
       "      <td>479.0</td>\n",
       "      <td>63.0</td>\n",
       "      <td>1020.5</td>\n",
       "    </tr>\n",
       "    <tr>\n",
       "      <th>2016-03-23 17:48:00</th>\n",
       "      <td>1458780504</td>\n",
       "      <td>23.9</td>\n",
       "      <td>45</td>\n",
       "      <td>470.0</td>\n",
       "      <td>39.0</td>\n",
       "      <td>1020.5</td>\n",
       "    </tr>\n",
       "    <tr>\n",
       "      <th>2016-03-23 17:53:00</th>\n",
       "      <td>1458780807</td>\n",
       "      <td>23.9</td>\n",
       "      <td>46</td>\n",
       "      <td>514.0</td>\n",
       "      <td>42.0</td>\n",
       "      <td>1020.5</td>\n",
       "    </tr>\n",
       "    <tr>\n",
       "      <th>2016-03-23 17:58:00</th>\n",
       "      <td>1458781108</td>\n",
       "      <td>23.9</td>\n",
       "      <td>46</td>\n",
       "      <td>519.0</td>\n",
       "      <td>42.0</td>\n",
       "      <td>1020.4</td>\n",
       "    </tr>\n",
       "    <tr>\n",
       "      <th>2016-03-23 18:03:00</th>\n",
       "      <td>1458781410</td>\n",
       "      <td>24.0</td>\n",
       "      <td>46</td>\n",
       "      <td>506.0</td>\n",
       "      <td>39.0</td>\n",
       "      <td>1020.3</td>\n",
       "    </tr>\n",
       "    <tr>\n",
       "      <th>2016-03-23 18:08:00</th>\n",
       "      <td>1458781711</td>\n",
       "      <td>24.1</td>\n",
       "      <td>46</td>\n",
       "      <td>501.0</td>\n",
       "      <td>37.0</td>\n",
       "      <td>1020.4</td>\n",
       "    </tr>\n",
       "    <tr>\n",
       "      <th>2016-03-23 18:13:00</th>\n",
       "      <td>1458782014</td>\n",
       "      <td>24.2</td>\n",
       "      <td>46</td>\n",
       "      <td>516.0</td>\n",
       "      <td>37.0</td>\n",
       "      <td>1020.4</td>\n",
       "    </tr>\n",
       "    <tr>\n",
       "      <th>2016-03-23 18:18:00</th>\n",
       "      <td>1458782316</td>\n",
       "      <td>24.2</td>\n",
       "      <td>46</td>\n",
       "      <td>514.0</td>\n",
       "      <td>36.0</td>\n",
       "      <td>1020.4</td>\n",
       "    </tr>\n",
       "    <tr>\n",
       "      <th>2016-03-23 18:23:00</th>\n",
       "      <td>1458782617</td>\n",
       "      <td>24.2</td>\n",
       "      <td>46</td>\n",
       "      <td>505.0</td>\n",
       "      <td>37.0</td>\n",
       "      <td>1020.5</td>\n",
       "    </tr>\n",
       "    <tr>\n",
       "      <th>2016-03-23 18:28:00</th>\n",
       "      <td>1458782918</td>\n",
       "      <td>24.2</td>\n",
       "      <td>46</td>\n",
       "      <td>509.0</td>\n",
       "      <td>36.0</td>\n",
       "      <td>1020.6</td>\n",
       "    </tr>\n",
       "  </tbody>\n",
       "</table>\n",
       "</div>"
      ],
      "text/plain": [
       "                                 Timestamp  Temperature  Humidity    CO2  \\\n",
       "Timezone : America/Los_Angeles                                             \n",
       "2016-03-23 17:28:00             1458779296         24.2        45  587.0   \n",
       "2016-03-23 17:33:00             1458779600         24.2        45  557.0   \n",
       "2016-03-23 17:38:00             1458779901         24.0        45  521.0   \n",
       "2016-03-23 17:43:00             1458780202         23.9        45  479.0   \n",
       "2016-03-23 17:48:00             1458780504         23.9        45  470.0   \n",
       "2016-03-23 17:53:00             1458780807         23.9        46  514.0   \n",
       "2016-03-23 17:58:00             1458781108         23.9        46  519.0   \n",
       "2016-03-23 18:03:00             1458781410         24.0        46  506.0   \n",
       "2016-03-23 18:08:00             1458781711         24.1        46  501.0   \n",
       "2016-03-23 18:13:00             1458782014         24.2        46  516.0   \n",
       "2016-03-23 18:18:00             1458782316         24.2        46  514.0   \n",
       "2016-03-23 18:23:00             1458782617         24.2        46  505.0   \n",
       "2016-03-23 18:28:00             1458782918         24.2        46  509.0   \n",
       "\n",
       "                                Noise  Pressure  \n",
       "Timezone : America/Los_Angeles                   \n",
       "2016-03-23 17:28:00              60.0    1020.7  \n",
       "2016-03-23 17:33:00              71.0    1020.6  \n",
       "2016-03-23 17:38:00              66.0    1020.6  \n",
       "2016-03-23 17:43:00              63.0    1020.5  \n",
       "2016-03-23 17:48:00              39.0    1020.5  \n",
       "2016-03-23 17:53:00              42.0    1020.5  \n",
       "2016-03-23 17:58:00              42.0    1020.4  \n",
       "2016-03-23 18:03:00              39.0    1020.3  \n",
       "2016-03-23 18:08:00              37.0    1020.4  \n",
       "2016-03-23 18:13:00              37.0    1020.4  \n",
       "2016-03-23 18:18:00              36.0    1020.4  \n",
       "2016-03-23 18:23:00              37.0    1020.5  \n",
       "2016-03-23 18:28:00              36.0    1020.6  "
      ]
     },
     "execution_count": 25,
     "metadata": {},
     "output_type": "execute_result"
    }
   ],
   "source": [
    "time2 = '2016-03-23 17:28:00' #Date for: Peak CO2 reading, fourth Wed of March at end of EMD forum last spring; no class third Wed\n",
    "time1 = '2016-03-23 18:28:00' #Date for: CO2 reading an hour after conclusion of EMD forum\n",
    "\n",
    "data[time2:time1]"
   ]
  },
  {
   "cell_type": "code",
   "execution_count": 26,
   "metadata": {
    "collapsed": false
   },
   "outputs": [
    {
     "data": {
      "text/plain": [
       "78"
      ]
     },
     "execution_count": 26,
     "metadata": {},
     "output_type": "execute_result"
    }
   ],
   "source": [
    "third_peakCO2_EMDforum = 587\n",
    "third_CO2_hourafterEMDforum = 509\n",
    "third_CO2decay_per_hour = third_peakCO2_EMDforum - third_CO2_hourafterEMDforum\n",
    "third_peakCO2_EMDforum - third_CO2_hourafterEMDforum"
   ]
  },
  {
   "cell_type": "code",
   "execution_count": 27,
   "metadata": {
    "collapsed": true
   },
   "outputs": [],
   "source": [
    "third_CO2decay_per_hour = 78 #door cracked or something?"
   ]
  },
  {
   "cell_type": "code",
   "execution_count": 28,
   "metadata": {
    "collapsed": false
   },
   "outputs": [
    {
     "data": {
      "text/plain": [
       "82.66666666666667"
      ]
     },
     "execution_count": 28,
     "metadata": {},
     "output_type": "execute_result"
    }
   ],
   "source": [
    "first_CO2decay_per_hour = 129\n",
    "secnd_CO2decay_per_hour = 41\n",
    "third_CO2decay_per_hour = 78\n",
    "avg_CO2decay_per_hour = (first_CO2decay_per_hour + secnd_CO2decay_per_hour + third_CO2decay_per_hour) / 3\n",
    "(first_CO2decay_per_hour + secnd_CO2decay_per_hour + third_CO2decay_per_hour) / 3"
   ]
  },
  {
   "cell_type": "code",
   "execution_count": 29,
   "metadata": {
    "collapsed": true
   },
   "outputs": [],
   "source": [
    "avg_CO2decay_per_hour = 82.7"
   ]
  },
  {
   "cell_type": "markdown",
   "metadata": {},
   "source": [
    "Because I used the average of three sample CO2 decays, now we need to get the average of the peak CO2 in the ETC at the end of each EMD forum to be a representative peak CO2 that we can ratio with the volume of the ETC."
   ]
  },
  {
   "cell_type": "code",
   "execution_count": 30,
   "metadata": {
    "collapsed": false
   },
   "outputs": [
    {
     "data": {
      "text/plain": [
       "810.0"
      ]
     },
     "execution_count": 30,
     "metadata": {},
     "output_type": "execute_result"
    }
   ],
   "source": [
    "first_peakCO2_EMDforum = 1072\n",
    "secnd_peakCO2_EMDforum = 771\n",
    "third_peakCO2_EMDforum = 587\n",
    "avg_peakCO2_EMDforum = (first_peakCO2_EMDforum + secnd_peakCO2_EMDforum + third_peakCO2_EMDforum) / 3 \n",
    "(first_peakCO2_EMDforum + secnd_peakCO2_EMDforum + third_peakCO2_EMDforum) / 3 "
   ]
  },
  {
   "cell_type": "code",
   "execution_count": 31,
   "metadata": {
    "collapsed": true
   },
   "outputs": [],
   "source": [
    "avg_peakCO2_EMDforum = 810"
   ]
  },
  {
   "cell_type": "code",
   "execution_count": 33,
   "metadata": {
    "collapsed": false
   },
   "outputs": [
    {
     "data": {
      "text/plain": [
       "0.019677866044748926"
      ]
     },
     "execution_count": 33,
     "metadata": {},
     "output_type": "execute_result"
    }
   ],
   "source": [
    "avg_peakCO2_EMDforum = 810\n",
    "ETC_vlme_cubicft = 41163 #Got through calculating finding sums w/ simpler shapes of the large complex shapes of the ETC's shape\n",
    "CO2_per_cubicft = avg_peakCO2_EMDforum / ETC_vlme_cubicft\n",
    "avg_peakCO2_EMDforum / ETC_vlme_cubicft"
   ]
  },
  {
   "cell_type": "code",
   "execution_count": 34,
   "metadata": {
    "collapsed": true
   },
   "outputs": [],
   "source": [
    "CO2_per_cubicft = 0.02"
   ]
  },
  {
   "cell_type": "markdown",
   "metadata": {},
   "source": [
    "With the CO2 decay per hour and CO2 per cubic feet, we can then divide the two figures and get to an infiltration rate of cubic feet per hour!\n",
    "- We can take the calculation further to get a CFM if we want by further dividing by 60 minutes"
   ]
  },
  {
   "cell_type": "code",
   "execution_count": 35,
   "metadata": {
    "collapsed": false
   },
   "outputs": [
    {
     "data": {
      "text/plain": [
       "4135.0"
      ]
     },
     "execution_count": 35,
     "metadata": {},
     "output_type": "execute_result"
    }
   ],
   "source": [
    "avg_CO2decay_per_hour = 82.7\n",
    "CO2_per_cubicft = 0.02\n",
    "infiltration_rate_cfh = avg_CO2decay_per_hour / CO2_per_cubicft\n",
    "avg_CO2decay_per_hour / CO2_per_cubicft"
   ]
  },
  {
   "cell_type": "code",
   "execution_count": 36,
   "metadata": {
    "collapsed": false
   },
   "outputs": [
    {
     "data": {
      "text/plain": [
       "68.91666666666667"
      ]
     },
     "execution_count": 36,
     "metadata": {},
     "output_type": "execute_result"
    }
   ],
   "source": [
    "infiltration_rate_cfh = 4135\n",
    "min_per_hr = 60\n",
    "infiltration_rate_cfm = infiltration_rate_cfh / min_per_hr\n",
    "infiltration_rate_cfh / min_per_hr"
   ]
  },
  {
   "cell_type": "code",
   "execution_count": null,
   "metadata": {
    "collapsed": true
   },
   "outputs": [],
   "source": []
  }
 ],
 "metadata": {
  "kernelspec": {
   "display_name": "Anaconda (Python 3)",
   "language": "python",
   "name": "anaconda3"
  },
  "language_info": {
   "codemirror_mode": {
    "name": "ipython",
    "version": 3
   },
   "file_extension": ".py",
   "mimetype": "text/x-python",
   "name": "python",
   "nbconvert_exporter": "python",
   "pygments_lexer": "ipython3",
   "version": "3.5.3"
  }
 },
 "nbformat": 4,
 "nbformat_minor": 0
}

{
 "cells": [
  {
   "cell_type": "code",
   "execution_count": 122,
   "metadata": {
    "collapsed": false,
    "scrolled": true
   },
   "outputs": [
    {
     "data": {
      "text/html": [
       "<div>\n",
       "<table border=\"1\" class=\"dataframe\">\n",
       "  <thead>\n",
       "    <tr style=\"text-align: right;\">\n",
       "      <th></th>\n",
       "      <th>Timestamp</th>\n",
       "      <th>Temperature</th>\n",
       "      <th>Humidity</th>\n",
       "      <th>CO2</th>\n",
       "      <th>Noise</th>\n",
       "      <th>Pressure</th>\n",
       "    </tr>\n",
       "    <tr>\n",
       "      <th>Timezone : America/Los_Angeles</th>\n",
       "      <th></th>\n",
       "      <th></th>\n",
       "      <th></th>\n",
       "      <th></th>\n",
       "      <th></th>\n",
       "      <th></th>\n",
       "    </tr>\n",
       "  </thead>\n",
       "  <tbody>\n",
       "    <tr>\n",
       "      <th>2016-12-31 23:35:00</th>\n",
       "      <td>1483256148</td>\n",
       "      <td>21.7</td>\n",
       "      <td>34</td>\n",
       "      <td>483.0</td>\n",
       "      <td>37.0</td>\n",
       "      <td>1009.3</td>\n",
       "    </tr>\n",
       "    <tr>\n",
       "      <th>2016-12-31 23:40:00</th>\n",
       "      <td>1483256449</td>\n",
       "      <td>21.7</td>\n",
       "      <td>34</td>\n",
       "      <td>485.0</td>\n",
       "      <td>38.0</td>\n",
       "      <td>1009.2</td>\n",
       "    </tr>\n",
       "    <tr>\n",
       "      <th>2016-12-31 23:45:00</th>\n",
       "      <td>1483256751</td>\n",
       "      <td>21.7</td>\n",
       "      <td>34</td>\n",
       "      <td>489.0</td>\n",
       "      <td>37.0</td>\n",
       "      <td>1009.0</td>\n",
       "    </tr>\n",
       "    <tr>\n",
       "      <th>2016-12-31 23:50:00</th>\n",
       "      <td>1483257054</td>\n",
       "      <td>21.8</td>\n",
       "      <td>34</td>\n",
       "      <td>475.0</td>\n",
       "      <td>38.0</td>\n",
       "      <td>1008.9</td>\n",
       "    </tr>\n",
       "    <tr>\n",
       "      <th>2016-12-31 23:55:00</th>\n",
       "      <td>1483257356</td>\n",
       "      <td>21.8</td>\n",
       "      <td>34</td>\n",
       "      <td>475.0</td>\n",
       "      <td>37.0</td>\n",
       "      <td>1008.9</td>\n",
       "    </tr>\n",
       "  </tbody>\n",
       "</table>\n",
       "</div>"
      ],
      "text/plain": [
       "                                 Timestamp  Temperature  Humidity    CO2  \\\n",
       "Timezone : America/Los_Angeles                                             \n",
       "2016-12-31 23:35:00             1483256148         21.7        34  483.0   \n",
       "2016-12-31 23:40:00             1483256449         21.7        34  485.0   \n",
       "2016-12-31 23:45:00             1483256751         21.7        34  489.0   \n",
       "2016-12-31 23:50:00             1483257054         21.8        34  475.0   \n",
       "2016-12-31 23:55:00             1483257356         21.8        34  475.0   \n",
       "\n",
       "                                Noise  Pressure  \n",
       "Timezone : America/Los_Angeles                   \n",
       "2016-12-31 23:35:00              37.0    1009.3  \n",
       "2016-12-31 23:40:00              38.0    1009.2  \n",
       "2016-12-31 23:45:00              37.0    1009.0  \n",
       "2016-12-31 23:50:00              38.0    1008.9  \n",
       "2016-12-31 23:55:00              37.0    1008.9  "
      ]
     },
     "execution_count": 122,
     "metadata": {},
     "output_type": "execute_result"
    }
   ],
   "source": [
    "#%matplotlib notebook\n",
    "%matplotlib inline\n",
    "import matplotlib.pyplot as plt\n",
    "import numpy as np\n",
    "import pandas as pd\n",
    "data = pd.read_csv('NetAtmo_2016.csv', \n",
    "                   index_col=1,      # use column 1 as the dates to index the data\n",
    "                   parse_dates=True) # convert the date string into a date object\n",
    "data[-5:]"
   ]
  },
  {
   "cell_type": "code",
   "execution_count": 123,
   "metadata": {
    "collapsed": false
   },
   "outputs": [
    {
     "data": {
      "text/plain": [
       "<matplotlib.axes._subplots.AxesSubplot at 0x7fab75a94b00>"
      ]
     },
     "execution_count": 123,
     "metadata": {},
     "output_type": "execute_result"
    },
    {
     "data": {
      "text/plain": [
       "<matplotlib.figure.Figure at 0x7fab75653c50>"
      ]
     },
     "metadata": {},
     "output_type": "display_data"
    }
   ],
   "source": [
    "inside_concentration = data['CO2']\n",
    "concentration_slope = data['CO2'].diff()/data['Timestamp'].diff()\n",
    "concentration_slope.plot()\n"
   ]
  },
  {
   "cell_type": "code",
   "execution_count": 124,
   "metadata": {
    "collapsed": false
   },
   "outputs": [
    {
     "data": {
      "text/plain": [
       "<matplotlib.axes._subplots.AxesSubplot at 0x7fab751370b8>"
      ]
     },
     "execution_count": 124,
     "metadata": {},
     "output_type": "execute_result"
    },
    {
     "data": {
      "image/png": "[encoded data removed]",
      "text/plain": [
       "<matplotlib.figure.Figure at 0x7fab7514ef28>"
      ]
     },
     "metadata": {},
     "output_type": "display_data"
    }
   ],
   "source": [
    "concentration_slope = concentration_slope.where(concentration_slope<0, 0)\n",
    "concentration_slope = concentration_slope.where(data['CO2']>450, 0)\n",
    "concentration_slope.plot()"
   ]
  },
  {
   "cell_type": "code",
   "execution_count": 125,
   "metadata": {
    "collapsed": false
   },
   "outputs": [
    {
     "data": {
      "text/plain": [
       "<matplotlib.axes._subplots.AxesSubplot at 0x7fab75137940>"
      ]
     },
     "execution_count": 125,
     "metadata": {},
     "output_type": "execute_result"
    },
    {
     "data": {
      "image/png": "[encoded data removed]",
      "text/plain": [
       "<matplotlib.figure.Figure at 0x7fab748def60>"
      ]
     },
     "metadata": {},
     "output_type": "display_data"
    }
   ],
   "source": [
    "infiltration_rate = concentration_slope/((inside_concentration - 400.).abs())*3600\n",
    "infiltration_rate.plot()"
   ]
  },
  {
   "cell_type": "code",
   "execution_count": 126,
   "metadata": {
    "collapsed": false
   },
   "outputs": [
    {
     "data": {
      "image/png": "[encoded data removed]",
      "text/plain": [
       "<matplotlib.figure.Figure at 0x7fab74ee02e8>"
      ]
     },
     "metadata": {},
     "output_type": "display_data"
    }
   ],
   "source": [
    "ax = infiltration_rate.plot()\n",
    "ax.set_ylim((-1,1))\n",
    "ax.grid()\n",
    "plt.savefig('test.pdf')"
   ]
  },
  {
   "cell_type": "code",
   "execution_count": 127,
   "metadata": {
    "collapsed": false
   },
   "outputs": [
    {
     "data": {
      "text/plain": [
       "count    89756.000000\n",
       "mean        -0.116603\n",
       "std          0.437253\n",
       "min        -25.341272\n",
       "25%          0.000000\n",
       "50%          0.000000\n",
       "75%          0.000000\n",
       "max          0.000000\n",
       "dtype: float64"
      ]
     },
     "execution_count": 127,
     "metadata": {},
     "output_type": "execute_result"
    }
   ],
   "source": [
    "infiltration_rate.describe()"
   ]
  },
  {
   "cell_type": "code",
   "execution_count": 128,
   "metadata": {
    "collapsed": false
   },
   "outputs": [
    {
     "data": {
      "image/png": "[encoded data removed]",
      "text/plain": [
       "<matplotlib.figure.Figure at 0x7fab740e10f0>"
      ]
     },
     "metadata": {},
     "output_type": "display_data"
    }
   ],
   "source": [
    "infiltration_rate.hist(bins=50)"
   ]
  },
  {
   "cell_type": "code",
   "execution_count": 129,
   "metadata": {
    "collapsed": false
   },
   "outputs": [
    {
     "data": {
      "text/plain": [
       "<matplotlib.axes._subplots.AxesSubplot at 0x7fab74480da0>"
      ]
     },
     "execution_count": 129,
     "metadata": {},
     "output_type": "execute_result"
    },
    {
     "data": {
      "image/png": "[encoded data removed]",
      "text/plain": [
       "<matplotlib.figure.Figure at 0x7fab746559e8>"
      ]
     },
     "metadata": {},
     "output_type": "display_data"
    }
   ],
   "source": [
    "infiltration_rate.hist(bins=50)"
   ]
  },
  {
   "cell_type": "code",
   "execution_count": 130,
   "metadata": {
    "collapsed": false
   },
   "outputs": [
    {
     "data": {
      "text/plain": [
       "<matplotlib.axes._subplots.AxesSubplot at 0x7fab74545ef0>"
      ]
     },
     "execution_count": 130,
     "metadata": {},
     "output_type": "execute_result"
    },
    {
     "data": {
      "image/png": "[encoded data removed]",
      "text/plain": [
       "<matplotlib.figure.Figure at 0x7fab7458d208>"
      ]
     },
     "metadata": {},
     "output_type": "display_data"
    }
   ],
   "source": [
    "data['CO2'].plot()"
   ]
  },
  {
   "cell_type": "code",
   "execution_count": 131,
   "metadata": {
    "collapsed": false
   },
   "outputs": [
    {
     "data": {},
     "execution_count": 131,
     "metadata": {},
     "output_type": "execute_result"
    }
   ],
   "source": [
    "time2 = '2016-04-19 12:18:29'\n",
    "time1 = '2016-04-19 12:43:36'\n",
    "\n",
    "data[time2:time1]"
   ]
  },
  {
   "cell_type": "code",
   "execution_count": 132,
   "metadata": {
    "collapsed": false
   },
   "outputs": [
    {
     "name": "stdout",
     "output_type": "stream",
     "text": [
      "Series([], Name: CO2, dtype: float64)\n",
      "Series([], Name: CO2, dtype: float64)\n",
      "run = Series([], Name: Timestamp, dtype: int64)\n",
      "slope = Series([], dtype: float64)\n"
     ]
    },
    {
     "data": {
      "text/plain": [
       "Series([], dtype: float64)"
      ]
     },
     "execution_count": 132,
     "metadata": {},
     "output_type": "execute_result"
    }
   ],
   "source": [
    "time2 = '2016-04-19 12:18:29'\n",
    "time1 = '2016-04-19 12:43:36'\n",
    "rise = data['CO2'][time2] - data['CO2'][time1]\n",
    "run = (data['Timestamp'][time2] - data['Timestamp'][time1])\n",
    "\n",
    "\n",
    "print(data['CO2'][time2])\n",
    "print(rise)\n",
    "print('run =',run)\n",
    "print('slope =', rise/run)\n",
    "rise / run * 3600 / (data['CO2'][time2]-400)"
   ]
  },
  {
   "cell_type": "markdown",
   "metadata": {},
   "source": [
    "# Matty's 2016 trial of our analysis for Infiltration Nation"
   ]
  },
  {
   "cell_type": "markdown",
   "metadata": {},
   "source": [
    "Starting with the calculations of three samples of CO2 decay after EMD forum to get an average CO2 decay per hour."
   ]
  },
  {
   "cell_type": "code",
   "execution_count": 133,
   "metadata": {
    "collapsed": false,
    "scrolled": true
   },
   "outputs": [
    {
     "data": {},
     "execution_count": 133,
     "metadata": {},
     "output_type": "execute_result"
    }
   ],
   "source": [
    "time2 = '2016-03-02 18:09:00' #Date for: Peak CO2 reading, first Wed of March at end of EMD forum last spring\n",
    "time1 = '2016-03-02 19:09:00' #Date for: CO2 reading an hour after conclusion of EMD forum\n",
    "\n",
    "data[time2:time1]"
   ]
  },
  {
   "cell_type": "code",
   "execution_count": 134,
   "metadata": {
    "collapsed": false
   },
   "outputs": [
    {
     "data": {
      "text/plain": [
       "129"
      ]
     },
     "execution_count": 134,
     "metadata": {},
     "output_type": "execute_result"
    }
   ],
   "source": [
    "first_peakCO2_EMDforum = 1072 \n",
    "first_CO2_hourafterEMDforum = 943\n",
    "first_CO2decay_per_hour = first_peakCO2_EMDforum - first_CO2_hourafterEMDforum\n",
    "first_peakCO2_EMDforum - first_CO2_hourafterEMDforum"
   ]
  },
  {
   "cell_type": "code",
   "execution_count": 135,
   "metadata": {
    "collapsed": true
   },
   "outputs": [],
   "source": [
    "first_CO2decay_per_hour = 129 #doors open or not?"
   ]
  },
  {
   "cell_type": "code",
   "execution_count": 136,
   "metadata": {
    "collapsed": false
   },
   "outputs": [
    {
     "data": {},
     "execution_count": 136,
     "metadata": {},
     "output_type": "execute_result"
    }
   ],
   "source": [
    "time2 = '2016-03-09 18:18:00' #Date for: Peak CO2 reading, second Wed of March at end of EMD forum last spring\n",
    "time1 = '2016-03-09 19:18:00' #Date for: CO2 reading an hour after conclusion of EMD forum\n",
    "\n",
    "data[time2:time1]"
   ]
  },
  {
   "cell_type": "code",
   "execution_count": 137,
   "metadata": {
    "collapsed": false
   },
   "outputs": [
    {
     "data": {
      "text/plain": [
       "41"
      ]
     },
     "execution_count": 137,
     "metadata": {},
     "output_type": "execute_result"
    }
   ],
   "source": [
    "secnd_peakCO2_EMDforum = 771\n",
    "secnd_CO2_hourafterEMDforum = 730\n",
    "secnd_CO2decay_per_hour = secnd_peakCO2_EMDforum - secnd_CO2_hourafterEMDforum\n",
    "secnd_peakCO2_EMDforum - secnd_CO2_hourafterEMDforum"
   ]
  },
  {
   "cell_type": "code",
   "execution_count": 138,
   "metadata": {
    "collapsed": true
   },
   "outputs": [],
   "source": [
    "secnd_CO2decay_per_hour = 41 #doors closed or something?"
   ]
  },
  {
   "cell_type": "code",
   "execution_count": 139,
   "metadata": {
    "collapsed": false
   },
   "outputs": [
    {
     "data": {},
     "execution_count": 139,
     "metadata": {},
     "output_type": "execute_result"
    }
   ],
   "source": [
    "time2 = '2016-03-23 17:28:00' #Date for: Peak CO2 reading, fourth Wed of March at end of EMD forum last spring; no class third Wed\n",
    "time1 = '2016-03-23 18:28:00' #Date for: CO2 reading an hour after conclusion of EMD forum\n",
    "\n",
    "data[time2:time1]"
   ]
  },
  {
   "cell_type": "code",
   "execution_count": 140,
   "metadata": {
    "collapsed": false
   },
   "outputs": [
    {
     "data": {
      "text/plain": [
       "78"
      ]
     },
     "execution_count": 140,
     "metadata": {},
     "output_type": "execute_result"
    }
   ],
   "source": [
    "third_peakCO2_EMDforum = 587\n",
    "third_CO2_hourafterEMDforum = 509\n",
    "third_CO2decay_per_hour = third_peakCO2_EMDforum - third_CO2_hourafterEMDforum\n",
    "third_peakCO2_EMDforum - third_CO2_hourafterEMDforum"
   ]
  },
  {
   "cell_type": "code",
   "execution_count": 141,
   "metadata": {
    "collapsed": true
   },
   "outputs": [],
   "source": [
    "third_CO2decay_per_hour = 78 #door cracked or something?"
   ]
  },
  {
   "cell_type": "code",
   "execution_count": 142,
   "metadata": {
    "collapsed": false
   },
   "outputs": [
    {
     "data": {
      "text/plain": [
       "82.66666666666667"
      ]
     },
     "execution_count": 142,
     "metadata": {},
     "output_type": "execute_result"
    }
   ],
   "source": [
    "first_CO2decay_per_hour = 129\n",
    "secnd_CO2decay_per_hour = 41\n",
    "third_CO2decay_per_hour = 78\n",
    "avg_CO2decay_per_hour = (first_CO2decay_per_hour + secnd_CO2decay_per_hour + third_CO2decay_per_hour) / 3\n",
    "(first_CO2decay_per_hour + secnd_CO2decay_per_hour + third_CO2decay_per_hour) / 3"
   ]
  },
  {
   "cell_type": "code",
   "execution_count": 143,
   "metadata": {
    "collapsed": true
   },
   "outputs": [],
   "source": [
    "avg_CO2decay_per_hour = 82.7"
   ]
  },
  {
   "cell_type": "markdown",
   "metadata": {},
   "source": [
    "Because I used the average of three sample CO2 decays, now we need to get the average of the peak CO2 in the ETC at the end of each EMD forum to be a representative peak CO2 that we can ratio with the volume of the ETC."
   ]
  },
  {
   "cell_type": "code",
   "execution_count": 144,
   "metadata": {
    "collapsed": false
   },
   "outputs": [
    {
     "data": {
      "text/plain": [
       "810.0"
      ]
     },
     "execution_count": 144,
     "metadata": {},
     "output_type": "execute_result"
    }
   ],
   "source": [
    "first_peakCO2_EMDforum = 1072\n",
    "secnd_peakCO2_EMDforum = 771\n",
    "third_peakCO2_EMDforum = 587\n",
    "avg_peakCO2_EMDforum = (first_peakCO2_EMDforum + secnd_peakCO2_EMDforum + third_peakCO2_EMDforum) / 3 \n",
    "(first_peakCO2_EMDforum + secnd_peakCO2_EMDforum + third_peakCO2_EMDforum) / 3 "
   ]
  },
  {
   "cell_type": "code",
   "execution_count": 145,
   "metadata": {
    "collapsed": true
   },
   "outputs": [],
   "source": [
    "avg_peakCO2_EMDforum = 810"
   ]
  },
  {
   "cell_type": "code",
   "execution_count": 146,
   "metadata": {
    "collapsed": false
   },
   "outputs": [
    {
     "ename": "SyntaxError",
     "evalue": "invalid syntax (<ipython-input-146-ed1825691262>, line 2)",
     "output_type": "error",
     "traceback": [
      "\u001b[0;36m  File \u001b[0;32m\"<ipython-input-146-ed1825691262>\"\u001b[0;36m, line \u001b[0;32m2\u001b[0m\n\u001b[0;31m    ETC_vlme_cubicft = ? #need to calculate ETC volume in cubic feet using blueprints before running calculation\u001b[0m\n\u001b[0m                       ^\u001b[0m\n\u001b[0;31mSyntaxError\u001b[0m\u001b[0;31m:\u001b[0m invalid syntax\n"
     ]
    }
   ],
   "source": [
    "avg_peakCO2_EMDforum = 810\n",
    "ETC_vlme_cubicft = ? #need to calculate ETC volume in cubic feet using blueprints before running calculation\n",
    "CO2_per_cubicft = avg_peakCO2_EMDforum / ETC_vlme_cubicft\n",
    "avg_peakCO2_EMDforum / ETC_vlme_cubicft"
   ]
  },
  {
   "cell_type": "markdown",
   "metadata": {},
   "source": [
    "With the CO2 decay per hour and CO2 per cubic feet, we can then divide the two figures and get to an infiltration rate of cubic feet per hour!\n",
    "- We can take the calculation further to get a CFM if we want by further dividing by 60 minutes"
   ]
  }
 ],
 "metadata": {
  "kernelspec": {
   "display_name": "Anaconda (Python 3)",
   "language": "python",
   "name": "anaconda3"
  },
  "language_info": {
   "codemirror_mode": {
    "name": "ipython",
    "version": 3
   },
   "file_extension": ".py",
   "mimetype": "text/x-python",
   "name": "python",
   "nbconvert_exporter": "python",
   "pygments_lexer": "ipython3",
   "version": "3.5.3"
  }
 },
 "nbformat": 4,
 "nbformat_minor": 0
}

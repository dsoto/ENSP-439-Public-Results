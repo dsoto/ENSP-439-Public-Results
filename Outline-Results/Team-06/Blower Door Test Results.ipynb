{
 "cells": [
  {
   "cell_type": "markdown",
   "metadata": {},
   "source": [
    "# Test 1\n",
    "** All doors closed **\n"
   ]
  },
  {
   "cell_type": "markdown",
   "metadata": {},
   "source": [
    "![](Test1.jpg)"
   ]
  },
  {
   "cell_type": "markdown",
   "metadata": {},
   "source": [
    "![](Test2.jpg)"
   ]
  },
  {
   "cell_type": "markdown",
   "metadata": {},
   "source": [
    "# Test 2\n",
    "** Inside doors open**\n"
   ]
  },
  {
   "cell_type": "markdown",
   "metadata": {},
   "source": [
    "![](Test3.jpg)"
   ]
  },
  {
   "cell_type": "markdown",
   "metadata": {},
   "source": [
    "![](Test1.jpg)"
   ]
  },
  {
   "cell_type": "markdown",
   "metadata": {},
   "source": [
    "![](Test4.jpg)"
   ]
  },
  {
   "cell_type": "markdown",
   "metadata": {},
   "source": [
    "Our results indicate findings that our group is not readily optimistic of. This could be due to several underlying factors that are hampering our efforts. First, we believe the door we originally tried to use is not conducive to the blower door because of the lack of weather stripping. As we ran our tests we noticed leaks coming in from the side of the blower door which we believe skewed our results. There was also significant leakage coming from the entryway doors that exacerbated our leaky results. As we entered the ETC 5:30pm we observed the building was significantly warmer than the outside temperature which goes along with our hypothesis that the ETC is not as leaky as our blower door tests imply. "
   ]
  },
  {
   "cell_type": "markdown",
   "metadata": {},
   "source": [
    "#Thursday March 2nd results \n",
    "\n",
    "Changed blower door location from west double doors to eastern single door. Reduced the airflow between the blower door and the frame and recieved a slightly better infiltration number. We believe the improvements made to the blower door contribute to the improved numbers however we are not entirely confident that our numbers represent the actual infiltration rate of the ETC. We will use the rate of C02 decay to try and compare these findings to what we observe on the NetAtmo website in the hopes that our blower door test results will better match what we believe is happening in the ETC. \n",
    "Once we obtain the ETC volume we will be able to proceed with our calcuations. We are close to finding it through our measurements with the ETC blueprints and Adobe Acrobat. \n",
    "At the moment we are not aware of any errors but we expect to have discrepencies between our blower door test results and the NetAtmo results, we might need help manipulating C02 data in order to obtain results that are accurate. "
   ]
  },
  {
   "cell_type": "markdown",
   "metadata": {},
   "source": [
    "![](Thursdaytest1.jpg)"
   ]
  },
  {
   "cell_type": "markdown",
   "metadata": {},
   "source": [
    "![](Thursdaytest2.jpg)"
   ]
  },
  {
   "cell_type": "markdown",
   "metadata": {},
   "source": [
    "![](Thursdaytest3.jpg)"
   ]
  },
  {
   "cell_type": "markdown",
   "metadata": {},
   "source": []
  }
 ],
 "metadata": {
  "kernelspec": {
   "display_name": "Anaconda (Python 3)",
   "language": "python",
   "name": "anaconda3"
  },
  "language_info": {
   "codemirror_mode": {
    "name": "ipython",
    "version": 3
   },
   "file_extension": ".py",
   "mimetype": "text/x-python",
   "name": "python",
   "nbconvert_exporter": "python",
   "pygments_lexer": "ipython3",
   "version": "3.5.3"
  }
 },
 "nbformat": 4,
 "nbformat_minor": 0
}

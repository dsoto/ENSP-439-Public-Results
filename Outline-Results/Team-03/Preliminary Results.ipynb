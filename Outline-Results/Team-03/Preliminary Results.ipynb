{
 "cells": [
  {
   "cell_type": "markdown",
   "metadata": {
    "collapsed": false
   },
   "source": [
    "# Power Trends: Household Average Energy Use Per Day \n",
    " (total household energy used in a year / 335 days)  {in kWh / day}\n",
    " \n",
    "     Our intentions here were to find these values so that we can compare high energy using homes with  low energy using homes or any other possible entity (i.e. street lights, non-residential buildings)"
   ]
  },
  {
   "cell_type": "markdown",
   "metadata": {
    "collapsed": true
   },
   "source": [
    "111: 0.132\n",
    "\n",
    "112: 0.225\n",
    "\n",
    "113:0.127\n",
    "\n",
    "114: 0.044\n",
    "\n",
    "121: 0.058\n",
    "\n",
    "122:0.022\n",
    "\n",
    "123:0.227\n",
    "\n",
    "124:0.0245\n",
    "\n",
    "131:0.099\n",
    "\n",
    "132:0.183\n",
    "\n",
    "133:0.0000128\n",
    "\n",
    "134:0.217\n",
    "\n",
    "141:0.939\n",
    "\n",
    "142:0.310\n",
    "\n",
    "143:0.001\n",
    "\n",
    "144:0.154\n",
    "\n",
    "151:0.00003\n",
    "\n",
    "152:0.296\n",
    "\n",
    "153:0.602\n",
    "\n",
    "154:0.075\n",
    "\n",
    "161:0.050\n",
    "\n",
    "162:0.086\n",
    "\n",
    "163:0.219\n",
    "\n",
    "164:0.080\n",
    "\n",
    "171: 0.088\n",
    "\n",
    "172: 0.030\n",
    "\n",
    "173: 0.032\n",
    "\n",
    "174: 0.0022\n",
    "\n",
    "181: 0.161\n",
    "\n",
    "182: 0.186\n",
    "\n",
    "183: 0.135\n",
    "\n",
    "184: 0.168\n",
    "\n",
    "191: 0.054\n",
    "\n",
    "192: 0.078\n",
    "\n",
    "193: 0.148\n",
    "\n",
    "194: 0.0104\n",
    "\n",
    "201: 0.1669\n",
    "\n",
    "202: 0.720\n",
    "\n",
    "203: 0.0766\n",
    "\n",
    "204: 0.0815\n",
    "\n",
    "221: 0.0620\n",
    "\n",
    "222: 0.1056\n",
    "\n",
    "223: 0.00381\n",
    "\n",
    "224: 0.0827\n",
    "\n",
    "231: 0.1245\n",
    "\n",
    "232: 0.1539\n",
    "\n",
    "233: 0.0599\n",
    "\n",
    "234: 0.0825"
   ]
  },
  {
   "cell_type": "markdown",
   "metadata": {},
   "source": [
    "Homes with very high energy use (possibly a non-residential building): 141, 153, 202\n",
    "\n",
    "Homes with high energy use: 112, 123, 134, 142, 152, 163\n",
    "\n",
    "Homes with low energy use: 111, 113, 114, 121, 122, 124, 131, 132, 144, 154, 161, 162, 164, 171, 172, 173, 181, 182, 183, 184, 191, 192, 193, 194, 201, 203, 204, 221, 222, 224, 231, 232, 233, 234\n",
    "\n",
    "House with very low energy use (possibly a street light): 133, 151, 174, 223"
   ]
  },
  {
   "cell_type": "markdown",
   "metadata": {},
   "source": [
    "# Possible Appliances: Description and wattage of appliances\n",
    "(Needed so that we can find times when a household may have acquired a new appliance)"
   ]
  },
  {
   "cell_type": "markdown",
   "metadata": {
    "collapsed": true
   },
   "source": [
    "TV: 100 Watts\n",
    "\n",
    "Lighting: 100 Watts\n",
    "\n",
    "Phone: 10 Watts\n",
    "\n",
    "Radio: 2 Watts\n",
    "\n",
    "Rice Cooker: 650 Watts\n",
    "\n",
    "Fridge: 225 Watts\n",
    "\n",
    "Fan: 100 Watts"
   ]
  },
  {
   "cell_type": "markdown",
   "metadata": {},
   "source": [
    "# Possible Blackout Dates: When they occur and what percentage of homes\n",
    "(To show how reliable the energy is)"
   ]
  },
  {
   "cell_type": "markdown",
   "metadata": {
    "collapsed": true
   },
   "source": [
    "Houses 111-114 No Data on:\n",
    "                             6/08/16,\n",
    "                             10/18/16,\n",
    "                             10/19/16,\n",
    "                             11/20/16,\n",
    "                             11/21/16 ,\n",
    "                              \n",
    "Houses 152-163 No data on: 6/07/16\n",
    "                              \n",
    "Houses 191-194 No data on:   4/29/16, 6/19/16, 6/26/16, 7/8/16\n",
    "                             \n",
    "                            \n",
    "                           Only houses not reporting data, Possible reliability issue\n",
    "                           \n",
    "Houses 201-234 No data on\n",
    "                            10/27,\n",
    "                            10/31,\n",
    "                            11/4\n",
    "                            \n",
    "                             \n",
    "All House lack of data on:    10/27/16, 11/2/16, 11/4/16, 11/5/16"
   ]
  },
  {
   "cell_type": "markdown",
   "metadata": {},
   "source": [
    "# Point Out Major Discreps.: Possible errors in the data\n",
    "(Things we still need too look in to)"
   ]
  },
  {
   "cell_type": "markdown",
   "metadata": {
    "collapsed": true
   },
   "source": [
    "Houses 152-163 have their meters completetly reset to zero on June 7. Possible meter malfunction.\n",
    "\n",
    "Houses 191-194 consistently lacking data - possibly a reliability issue.\n",
    "\n",
    "Houses 201-204 consistently lacking data - possible reliability issue. Obvious similarities between multiple houses, curves and energy usage alsmost identical between houses 204, 224, 234. \n",
    "\n",
    "Houses 202, 222, 223 either did not start using energy until a certain time, or there was a problem recording data. Possible errors "
   ]
  },
  {
   "cell_type": "markdown",
   "metadata": {},
   "source": [
    "# Remaining Analysis Needed"
   ]
  },
  {
   "cell_type": "markdown",
   "metadata": {},
   "source": [
    "In order to complete the project, we still need to find trends in the data that suggest that the household has gained an appliance. We will also need to figure out which of the data sets could be streetlights, some possible causes of blackouts, and possible reasons for peaks or dips in energy useage. Hopefully, we will also be able to compare these reults to the reliability of a traditional grid system, in order to compare the costs and benifits of each system type. "
   ]
  }
 ],
 "metadata": {
  "kernelspec": {
   "display_name": "Anaconda (Python 3)",
   "language": "python",
   "name": "anaconda3"
  },
  "language_info": {
   "codemirror_mode": {
    "name": "ipython",
    "version": 3
   },
   "file_extension": ".py",
   "mimetype": "text/x-python",
   "name": "python",
   "nbconvert_exporter": "python",
   "pygments_lexer": "ipython3",
   "version": "3.5.3"
  }
 },
 "nbformat": 4,
 "nbformat_minor": 0
}
